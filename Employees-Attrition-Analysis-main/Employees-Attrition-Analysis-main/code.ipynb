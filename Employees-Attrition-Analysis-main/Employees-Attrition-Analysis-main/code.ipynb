{
  "nbformat": 4,
  "nbformat_minor": 0,
  "metadata": {
    "colab": {
      "name": "code.ipynb",
      "provenance": [],
      "collapsed_sections": [
        "Y08x65YJdNhB"
      ]
    },
    "kernelspec": {
      "name": "python3",
      "display_name": "Python 3"
    },
    "language_info": {
      "name": "python"
    }
  },
  "cells": [
    {
      "cell_type": "markdown",
      "metadata": {
        "id": "QN48aYLYIjJZ"
      },
      "source": [
        "In this project I have used IBM employee attrition data to analyse the impact of various features causing employees to quit their job and then use different ML models to predict if an employee is going to resign or not.\n",
        "Data used can be downloaded from https://www.kaggle.com/pavansubhasht/ibm-hr-analytics-attrition-dataset"
      ]
    },
    {
      "cell_type": "code",
      "metadata": {
        "id": "E2RuGKguvXcw"
      },
      "source": [
        "import numpy as np\n",
        "import pandas as pd\n",
        "import matplotlib.pyplot as plt\n",
        "import seaborn as sns\n",
        "np.random.seed(100)"
      ],
      "execution_count": 367,
      "outputs": []
    },
    {
      "cell_type": "code",
      "metadata": {
        "id": "vjuLHczlJwRp"
      },
      "source": [
        "file_path = \"/content/WA_Fn-UseC_-HR-Employee-Attrition.csv\""
      ],
      "execution_count": 368,
      "outputs": []
    },
    {
      "cell_type": "code",
      "metadata": {
        "id": "SUeN4rJUig7m"
      },
      "source": [
        "emp_data_org = pd.read_csv(file_path)"
      ],
      "execution_count": 369,
      "outputs": []
    },
    {
      "cell_type": "code",
      "metadata": {
        "colab": {
          "base_uri": "https://localhost:8080/"
        },
        "id": "yf5uAmXVJ2Sf",
        "outputId": "373fa49e-6a1e-49c3-bab2-74dc50c5ee0d"
      },
      "source": [
        "print('Dataset dimension: {} rows, {} columns'.format(emp_data_org.shape[0], emp_data_org.shape[1]))"
      ],
      "execution_count": 370,
      "outputs": [
        {
          "output_type": "stream",
          "text": [
            "Dataset dimension: 1470 rows, 35 columns\n"
          ],
          "name": "stdout"
        }
      ]
    },
    {
      "cell_type": "markdown",
      "metadata": {
        "id": "_o9Q19nsXt6i"
      },
      "source": [
        "## Understanding the data"
      ]
    },
    {
      "cell_type": "code",
      "metadata": {
        "colab": {
          "base_uri": "https://localhost:8080/"
        },
        "id": "5OaGXF4wLLJn",
        "outputId": "2ef3b7c7-8d2d-44eb-e125-b8e2b2a16434"
      },
      "source": [
        "emp_data_org.info()"
      ],
      "execution_count": 371,
      "outputs": [
        {
          "output_type": "stream",
          "text": [
            "<class 'pandas.core.frame.DataFrame'>\n",
            "RangeIndex: 1470 entries, 0 to 1469\n",
            "Data columns (total 35 columns):\n",
            " #   Column                    Non-Null Count  Dtype \n",
            "---  ------                    --------------  ----- \n",
            " 0   Age                       1470 non-null   int64 \n",
            " 1   Attrition                 1470 non-null   object\n",
            " 2   BusinessTravel            1470 non-null   object\n",
            " 3   DailyRate                 1470 non-null   int64 \n",
            " 4   Department                1470 non-null   object\n",
            " 5   DistanceFromHome          1470 non-null   int64 \n",
            " 6   Education                 1470 non-null   int64 \n",
            " 7   EducationField            1470 non-null   object\n",
            " 8   EmployeeCount             1470 non-null   int64 \n",
            " 9   EmployeeNumber            1470 non-null   int64 \n",
            " 10  EnvironmentSatisfaction   1470 non-null   int64 \n",
            " 11  Gender                    1470 non-null   object\n",
            " 12  HourlyRate                1470 non-null   int64 \n",
            " 13  JobInvolvement            1470 non-null   int64 \n",
            " 14  JobLevel                  1470 non-null   int64 \n",
            " 15  JobRole                   1470 non-null   object\n",
            " 16  JobSatisfaction           1470 non-null   int64 \n",
            " 17  MaritalStatus             1470 non-null   object\n",
            " 18  MonthlyIncome             1470 non-null   int64 \n",
            " 19  MonthlyRate               1470 non-null   int64 \n",
            " 20  NumCompaniesWorked        1470 non-null   int64 \n",
            " 21  Over18                    1470 non-null   object\n",
            " 22  OverTime                  1470 non-null   object\n",
            " 23  PercentSalaryHike         1470 non-null   int64 \n",
            " 24  PerformanceRating         1470 non-null   int64 \n",
            " 25  RelationshipSatisfaction  1470 non-null   int64 \n",
            " 26  StandardHours             1470 non-null   int64 \n",
            " 27  StockOptionLevel          1470 non-null   int64 \n",
            " 28  TotalWorkingYears         1470 non-null   int64 \n",
            " 29  TrainingTimesLastYear     1470 non-null   int64 \n",
            " 30  WorkLifeBalance           1470 non-null   int64 \n",
            " 31  YearsAtCompany            1470 non-null   int64 \n",
            " 32  YearsInCurrentRole        1470 non-null   int64 \n",
            " 33  YearsSinceLastPromotion   1470 non-null   int64 \n",
            " 34  YearsWithCurrManager      1470 non-null   int64 \n",
            "dtypes: int64(26), object(9)\n",
            "memory usage: 402.1+ KB\n"
          ],
          "name": "stdout"
        }
      ]
    },
    {
      "cell_type": "code",
      "metadata": {
        "colab": {
          "base_uri": "https://localhost:8080/",
          "height": 313
        },
        "id": "D_4O2b3sMdzf",
        "outputId": "c6fe8d19-ebba-432f-97ac-528ffc8f02f9"
      },
      "source": [
        "emp_data_org.head()"
      ],
      "execution_count": 372,
      "outputs": [
        {
          "output_type": "execute_result",
          "data": {
            "text/html": [
              "<div>\n",
              "<style scoped>\n",
              "    .dataframe tbody tr th:only-of-type {\n",
              "        vertical-align: middle;\n",
              "    }\n",
              "\n",
              "    .dataframe tbody tr th {\n",
              "        vertical-align: top;\n",
              "    }\n",
              "\n",
              "    .dataframe thead th {\n",
              "        text-align: right;\n",
              "    }\n",
              "</style>\n",
              "<table border=\"1\" class=\"dataframe\">\n",
              "  <thead>\n",
              "    <tr style=\"text-align: right;\">\n",
              "      <th></th>\n",
              "      <th>Age</th>\n",
              "      <th>Attrition</th>\n",
              "      <th>BusinessTravel</th>\n",
              "      <th>DailyRate</th>\n",
              "      <th>Department</th>\n",
              "      <th>DistanceFromHome</th>\n",
              "      <th>Education</th>\n",
              "      <th>EducationField</th>\n",
              "      <th>EmployeeCount</th>\n",
              "      <th>EmployeeNumber</th>\n",
              "      <th>EnvironmentSatisfaction</th>\n",
              "      <th>Gender</th>\n",
              "      <th>HourlyRate</th>\n",
              "      <th>JobInvolvement</th>\n",
              "      <th>JobLevel</th>\n",
              "      <th>JobRole</th>\n",
              "      <th>JobSatisfaction</th>\n",
              "      <th>MaritalStatus</th>\n",
              "      <th>MonthlyIncome</th>\n",
              "      <th>MonthlyRate</th>\n",
              "      <th>NumCompaniesWorked</th>\n",
              "      <th>Over18</th>\n",
              "      <th>OverTime</th>\n",
              "      <th>PercentSalaryHike</th>\n",
              "      <th>PerformanceRating</th>\n",
              "      <th>RelationshipSatisfaction</th>\n",
              "      <th>StandardHours</th>\n",
              "      <th>StockOptionLevel</th>\n",
              "      <th>TotalWorkingYears</th>\n",
              "      <th>TrainingTimesLastYear</th>\n",
              "      <th>WorkLifeBalance</th>\n",
              "      <th>YearsAtCompany</th>\n",
              "      <th>YearsInCurrentRole</th>\n",
              "      <th>YearsSinceLastPromotion</th>\n",
              "      <th>YearsWithCurrManager</th>\n",
              "    </tr>\n",
              "  </thead>\n",
              "  <tbody>\n",
              "    <tr>\n",
              "      <th>0</th>\n",
              "      <td>41</td>\n",
              "      <td>Yes</td>\n",
              "      <td>Travel_Rarely</td>\n",
              "      <td>1102</td>\n",
              "      <td>Sales</td>\n",
              "      <td>1</td>\n",
              "      <td>2</td>\n",
              "      <td>Life Sciences</td>\n",
              "      <td>1</td>\n",
              "      <td>1</td>\n",
              "      <td>2</td>\n",
              "      <td>Female</td>\n",
              "      <td>94</td>\n",
              "      <td>3</td>\n",
              "      <td>2</td>\n",
              "      <td>Sales Executive</td>\n",
              "      <td>4</td>\n",
              "      <td>Single</td>\n",
              "      <td>5993</td>\n",
              "      <td>19479</td>\n",
              "      <td>8</td>\n",
              "      <td>Y</td>\n",
              "      <td>Yes</td>\n",
              "      <td>11</td>\n",
              "      <td>3</td>\n",
              "      <td>1</td>\n",
              "      <td>80</td>\n",
              "      <td>0</td>\n",
              "      <td>8</td>\n",
              "      <td>0</td>\n",
              "      <td>1</td>\n",
              "      <td>6</td>\n",
              "      <td>4</td>\n",
              "      <td>0</td>\n",
              "      <td>5</td>\n",
              "    </tr>\n",
              "    <tr>\n",
              "      <th>1</th>\n",
              "      <td>49</td>\n",
              "      <td>No</td>\n",
              "      <td>Travel_Frequently</td>\n",
              "      <td>279</td>\n",
              "      <td>Research &amp; Development</td>\n",
              "      <td>8</td>\n",
              "      <td>1</td>\n",
              "      <td>Life Sciences</td>\n",
              "      <td>1</td>\n",
              "      <td>2</td>\n",
              "      <td>3</td>\n",
              "      <td>Male</td>\n",
              "      <td>61</td>\n",
              "      <td>2</td>\n",
              "      <td>2</td>\n",
              "      <td>Research Scientist</td>\n",
              "      <td>2</td>\n",
              "      <td>Married</td>\n",
              "      <td>5130</td>\n",
              "      <td>24907</td>\n",
              "      <td>1</td>\n",
              "      <td>Y</td>\n",
              "      <td>No</td>\n",
              "      <td>23</td>\n",
              "      <td>4</td>\n",
              "      <td>4</td>\n",
              "      <td>80</td>\n",
              "      <td>1</td>\n",
              "      <td>10</td>\n",
              "      <td>3</td>\n",
              "      <td>3</td>\n",
              "      <td>10</td>\n",
              "      <td>7</td>\n",
              "      <td>1</td>\n",
              "      <td>7</td>\n",
              "    </tr>\n",
              "    <tr>\n",
              "      <th>2</th>\n",
              "      <td>37</td>\n",
              "      <td>Yes</td>\n",
              "      <td>Travel_Rarely</td>\n",
              "      <td>1373</td>\n",
              "      <td>Research &amp; Development</td>\n",
              "      <td>2</td>\n",
              "      <td>2</td>\n",
              "      <td>Other</td>\n",
              "      <td>1</td>\n",
              "      <td>4</td>\n",
              "      <td>4</td>\n",
              "      <td>Male</td>\n",
              "      <td>92</td>\n",
              "      <td>2</td>\n",
              "      <td>1</td>\n",
              "      <td>Laboratory Technician</td>\n",
              "      <td>3</td>\n",
              "      <td>Single</td>\n",
              "      <td>2090</td>\n",
              "      <td>2396</td>\n",
              "      <td>6</td>\n",
              "      <td>Y</td>\n",
              "      <td>Yes</td>\n",
              "      <td>15</td>\n",
              "      <td>3</td>\n",
              "      <td>2</td>\n",
              "      <td>80</td>\n",
              "      <td>0</td>\n",
              "      <td>7</td>\n",
              "      <td>3</td>\n",
              "      <td>3</td>\n",
              "      <td>0</td>\n",
              "      <td>0</td>\n",
              "      <td>0</td>\n",
              "      <td>0</td>\n",
              "    </tr>\n",
              "    <tr>\n",
              "      <th>3</th>\n",
              "      <td>33</td>\n",
              "      <td>No</td>\n",
              "      <td>Travel_Frequently</td>\n",
              "      <td>1392</td>\n",
              "      <td>Research &amp; Development</td>\n",
              "      <td>3</td>\n",
              "      <td>4</td>\n",
              "      <td>Life Sciences</td>\n",
              "      <td>1</td>\n",
              "      <td>5</td>\n",
              "      <td>4</td>\n",
              "      <td>Female</td>\n",
              "      <td>56</td>\n",
              "      <td>3</td>\n",
              "      <td>1</td>\n",
              "      <td>Research Scientist</td>\n",
              "      <td>3</td>\n",
              "      <td>Married</td>\n",
              "      <td>2909</td>\n",
              "      <td>23159</td>\n",
              "      <td>1</td>\n",
              "      <td>Y</td>\n",
              "      <td>Yes</td>\n",
              "      <td>11</td>\n",
              "      <td>3</td>\n",
              "      <td>3</td>\n",
              "      <td>80</td>\n",
              "      <td>0</td>\n",
              "      <td>8</td>\n",
              "      <td>3</td>\n",
              "      <td>3</td>\n",
              "      <td>8</td>\n",
              "      <td>7</td>\n",
              "      <td>3</td>\n",
              "      <td>0</td>\n",
              "    </tr>\n",
              "    <tr>\n",
              "      <th>4</th>\n",
              "      <td>27</td>\n",
              "      <td>No</td>\n",
              "      <td>Travel_Rarely</td>\n",
              "      <td>591</td>\n",
              "      <td>Research &amp; Development</td>\n",
              "      <td>2</td>\n",
              "      <td>1</td>\n",
              "      <td>Medical</td>\n",
              "      <td>1</td>\n",
              "      <td>7</td>\n",
              "      <td>1</td>\n",
              "      <td>Male</td>\n",
              "      <td>40</td>\n",
              "      <td>3</td>\n",
              "      <td>1</td>\n",
              "      <td>Laboratory Technician</td>\n",
              "      <td>2</td>\n",
              "      <td>Married</td>\n",
              "      <td>3468</td>\n",
              "      <td>16632</td>\n",
              "      <td>9</td>\n",
              "      <td>Y</td>\n",
              "      <td>No</td>\n",
              "      <td>12</td>\n",
              "      <td>3</td>\n",
              "      <td>4</td>\n",
              "      <td>80</td>\n",
              "      <td>1</td>\n",
              "      <td>6</td>\n",
              "      <td>3</td>\n",
              "      <td>3</td>\n",
              "      <td>2</td>\n",
              "      <td>2</td>\n",
              "      <td>2</td>\n",
              "      <td>2</td>\n",
              "    </tr>\n",
              "  </tbody>\n",
              "</table>\n",
              "</div>"
            ],
            "text/plain": [
              "   Age Attrition  ... YearsSinceLastPromotion  YearsWithCurrManager\n",
              "0   41       Yes  ...                       0                     5\n",
              "1   49        No  ...                       1                     7\n",
              "2   37       Yes  ...                       0                     0\n",
              "3   33        No  ...                       3                     0\n",
              "4   27        No  ...                       2                     2\n",
              "\n",
              "[5 rows x 35 columns]"
            ]
          },
          "metadata": {
            "tags": []
          },
          "execution_count": 372
        }
      ]
    },
    {
      "cell_type": "markdown",
      "metadata": {
        "id": "mhRzokQZMANv"
      },
      "source": [
        "**Observations**\n",
        "1. There are 1470 data samples, each sample has 35 features including target variable \"Attrition\".\n",
        "2. Data contains values of integer types and object(string) types.\n",
        "3. There are no missing values in any column."
      ]
    },
    {
      "cell_type": "code",
      "metadata": {
        "colab": {
          "base_uri": "https://localhost:8080/",
          "height": 320
        },
        "id": "6t6xsf3RLNJA",
        "outputId": "afa2cc73-2f20-4300-bb41-6c8c57768065"
      },
      "source": [
        "emp_data_org.describe()"
      ],
      "execution_count": 373,
      "outputs": [
        {
          "output_type": "execute_result",
          "data": {
            "text/html": [
              "<div>\n",
              "<style scoped>\n",
              "    .dataframe tbody tr th:only-of-type {\n",
              "        vertical-align: middle;\n",
              "    }\n",
              "\n",
              "    .dataframe tbody tr th {\n",
              "        vertical-align: top;\n",
              "    }\n",
              "\n",
              "    .dataframe thead th {\n",
              "        text-align: right;\n",
              "    }\n",
              "</style>\n",
              "<table border=\"1\" class=\"dataframe\">\n",
              "  <thead>\n",
              "    <tr style=\"text-align: right;\">\n",
              "      <th></th>\n",
              "      <th>Age</th>\n",
              "      <th>DailyRate</th>\n",
              "      <th>DistanceFromHome</th>\n",
              "      <th>Education</th>\n",
              "      <th>EmployeeCount</th>\n",
              "      <th>EmployeeNumber</th>\n",
              "      <th>EnvironmentSatisfaction</th>\n",
              "      <th>HourlyRate</th>\n",
              "      <th>JobInvolvement</th>\n",
              "      <th>JobLevel</th>\n",
              "      <th>JobSatisfaction</th>\n",
              "      <th>MonthlyIncome</th>\n",
              "      <th>MonthlyRate</th>\n",
              "      <th>NumCompaniesWorked</th>\n",
              "      <th>PercentSalaryHike</th>\n",
              "      <th>PerformanceRating</th>\n",
              "      <th>RelationshipSatisfaction</th>\n",
              "      <th>StandardHours</th>\n",
              "      <th>StockOptionLevel</th>\n",
              "      <th>TotalWorkingYears</th>\n",
              "      <th>TrainingTimesLastYear</th>\n",
              "      <th>WorkLifeBalance</th>\n",
              "      <th>YearsAtCompany</th>\n",
              "      <th>YearsInCurrentRole</th>\n",
              "      <th>YearsSinceLastPromotion</th>\n",
              "      <th>YearsWithCurrManager</th>\n",
              "    </tr>\n",
              "  </thead>\n",
              "  <tbody>\n",
              "    <tr>\n",
              "      <th>count</th>\n",
              "      <td>1470.000000</td>\n",
              "      <td>1470.000000</td>\n",
              "      <td>1470.000000</td>\n",
              "      <td>1470.000000</td>\n",
              "      <td>1470.0</td>\n",
              "      <td>1470.000000</td>\n",
              "      <td>1470.000000</td>\n",
              "      <td>1470.000000</td>\n",
              "      <td>1470.000000</td>\n",
              "      <td>1470.000000</td>\n",
              "      <td>1470.000000</td>\n",
              "      <td>1470.000000</td>\n",
              "      <td>1470.000000</td>\n",
              "      <td>1470.000000</td>\n",
              "      <td>1470.000000</td>\n",
              "      <td>1470.000000</td>\n",
              "      <td>1470.000000</td>\n",
              "      <td>1470.0</td>\n",
              "      <td>1470.000000</td>\n",
              "      <td>1470.000000</td>\n",
              "      <td>1470.000000</td>\n",
              "      <td>1470.000000</td>\n",
              "      <td>1470.000000</td>\n",
              "      <td>1470.000000</td>\n",
              "      <td>1470.000000</td>\n",
              "      <td>1470.000000</td>\n",
              "    </tr>\n",
              "    <tr>\n",
              "      <th>mean</th>\n",
              "      <td>36.923810</td>\n",
              "      <td>802.485714</td>\n",
              "      <td>9.192517</td>\n",
              "      <td>2.912925</td>\n",
              "      <td>1.0</td>\n",
              "      <td>1024.865306</td>\n",
              "      <td>2.721769</td>\n",
              "      <td>65.891156</td>\n",
              "      <td>2.729932</td>\n",
              "      <td>2.063946</td>\n",
              "      <td>2.728571</td>\n",
              "      <td>6502.931293</td>\n",
              "      <td>14313.103401</td>\n",
              "      <td>2.693197</td>\n",
              "      <td>15.209524</td>\n",
              "      <td>3.153741</td>\n",
              "      <td>2.712245</td>\n",
              "      <td>80.0</td>\n",
              "      <td>0.793878</td>\n",
              "      <td>11.279592</td>\n",
              "      <td>2.799320</td>\n",
              "      <td>2.761224</td>\n",
              "      <td>7.008163</td>\n",
              "      <td>4.229252</td>\n",
              "      <td>2.187755</td>\n",
              "      <td>4.123129</td>\n",
              "    </tr>\n",
              "    <tr>\n",
              "      <th>std</th>\n",
              "      <td>9.135373</td>\n",
              "      <td>403.509100</td>\n",
              "      <td>8.106864</td>\n",
              "      <td>1.024165</td>\n",
              "      <td>0.0</td>\n",
              "      <td>602.024335</td>\n",
              "      <td>1.093082</td>\n",
              "      <td>20.329428</td>\n",
              "      <td>0.711561</td>\n",
              "      <td>1.106940</td>\n",
              "      <td>1.102846</td>\n",
              "      <td>4707.956783</td>\n",
              "      <td>7117.786044</td>\n",
              "      <td>2.498009</td>\n",
              "      <td>3.659938</td>\n",
              "      <td>0.360824</td>\n",
              "      <td>1.081209</td>\n",
              "      <td>0.0</td>\n",
              "      <td>0.852077</td>\n",
              "      <td>7.780782</td>\n",
              "      <td>1.289271</td>\n",
              "      <td>0.706476</td>\n",
              "      <td>6.126525</td>\n",
              "      <td>3.623137</td>\n",
              "      <td>3.222430</td>\n",
              "      <td>3.568136</td>\n",
              "    </tr>\n",
              "    <tr>\n",
              "      <th>min</th>\n",
              "      <td>18.000000</td>\n",
              "      <td>102.000000</td>\n",
              "      <td>1.000000</td>\n",
              "      <td>1.000000</td>\n",
              "      <td>1.0</td>\n",
              "      <td>1.000000</td>\n",
              "      <td>1.000000</td>\n",
              "      <td>30.000000</td>\n",
              "      <td>1.000000</td>\n",
              "      <td>1.000000</td>\n",
              "      <td>1.000000</td>\n",
              "      <td>1009.000000</td>\n",
              "      <td>2094.000000</td>\n",
              "      <td>0.000000</td>\n",
              "      <td>11.000000</td>\n",
              "      <td>3.000000</td>\n",
              "      <td>1.000000</td>\n",
              "      <td>80.0</td>\n",
              "      <td>0.000000</td>\n",
              "      <td>0.000000</td>\n",
              "      <td>0.000000</td>\n",
              "      <td>1.000000</td>\n",
              "      <td>0.000000</td>\n",
              "      <td>0.000000</td>\n",
              "      <td>0.000000</td>\n",
              "      <td>0.000000</td>\n",
              "    </tr>\n",
              "    <tr>\n",
              "      <th>25%</th>\n",
              "      <td>30.000000</td>\n",
              "      <td>465.000000</td>\n",
              "      <td>2.000000</td>\n",
              "      <td>2.000000</td>\n",
              "      <td>1.0</td>\n",
              "      <td>491.250000</td>\n",
              "      <td>2.000000</td>\n",
              "      <td>48.000000</td>\n",
              "      <td>2.000000</td>\n",
              "      <td>1.000000</td>\n",
              "      <td>2.000000</td>\n",
              "      <td>2911.000000</td>\n",
              "      <td>8047.000000</td>\n",
              "      <td>1.000000</td>\n",
              "      <td>12.000000</td>\n",
              "      <td>3.000000</td>\n",
              "      <td>2.000000</td>\n",
              "      <td>80.0</td>\n",
              "      <td>0.000000</td>\n",
              "      <td>6.000000</td>\n",
              "      <td>2.000000</td>\n",
              "      <td>2.000000</td>\n",
              "      <td>3.000000</td>\n",
              "      <td>2.000000</td>\n",
              "      <td>0.000000</td>\n",
              "      <td>2.000000</td>\n",
              "    </tr>\n",
              "    <tr>\n",
              "      <th>50%</th>\n",
              "      <td>36.000000</td>\n",
              "      <td>802.000000</td>\n",
              "      <td>7.000000</td>\n",
              "      <td>3.000000</td>\n",
              "      <td>1.0</td>\n",
              "      <td>1020.500000</td>\n",
              "      <td>3.000000</td>\n",
              "      <td>66.000000</td>\n",
              "      <td>3.000000</td>\n",
              "      <td>2.000000</td>\n",
              "      <td>3.000000</td>\n",
              "      <td>4919.000000</td>\n",
              "      <td>14235.500000</td>\n",
              "      <td>2.000000</td>\n",
              "      <td>14.000000</td>\n",
              "      <td>3.000000</td>\n",
              "      <td>3.000000</td>\n",
              "      <td>80.0</td>\n",
              "      <td>1.000000</td>\n",
              "      <td>10.000000</td>\n",
              "      <td>3.000000</td>\n",
              "      <td>3.000000</td>\n",
              "      <td>5.000000</td>\n",
              "      <td>3.000000</td>\n",
              "      <td>1.000000</td>\n",
              "      <td>3.000000</td>\n",
              "    </tr>\n",
              "    <tr>\n",
              "      <th>75%</th>\n",
              "      <td>43.000000</td>\n",
              "      <td>1157.000000</td>\n",
              "      <td>14.000000</td>\n",
              "      <td>4.000000</td>\n",
              "      <td>1.0</td>\n",
              "      <td>1555.750000</td>\n",
              "      <td>4.000000</td>\n",
              "      <td>83.750000</td>\n",
              "      <td>3.000000</td>\n",
              "      <td>3.000000</td>\n",
              "      <td>4.000000</td>\n",
              "      <td>8379.000000</td>\n",
              "      <td>20461.500000</td>\n",
              "      <td>4.000000</td>\n",
              "      <td>18.000000</td>\n",
              "      <td>3.000000</td>\n",
              "      <td>4.000000</td>\n",
              "      <td>80.0</td>\n",
              "      <td>1.000000</td>\n",
              "      <td>15.000000</td>\n",
              "      <td>3.000000</td>\n",
              "      <td>3.000000</td>\n",
              "      <td>9.000000</td>\n",
              "      <td>7.000000</td>\n",
              "      <td>3.000000</td>\n",
              "      <td>7.000000</td>\n",
              "    </tr>\n",
              "    <tr>\n",
              "      <th>max</th>\n",
              "      <td>60.000000</td>\n",
              "      <td>1499.000000</td>\n",
              "      <td>29.000000</td>\n",
              "      <td>5.000000</td>\n",
              "      <td>1.0</td>\n",
              "      <td>2068.000000</td>\n",
              "      <td>4.000000</td>\n",
              "      <td>100.000000</td>\n",
              "      <td>4.000000</td>\n",
              "      <td>5.000000</td>\n",
              "      <td>4.000000</td>\n",
              "      <td>19999.000000</td>\n",
              "      <td>26999.000000</td>\n",
              "      <td>9.000000</td>\n",
              "      <td>25.000000</td>\n",
              "      <td>4.000000</td>\n",
              "      <td>4.000000</td>\n",
              "      <td>80.0</td>\n",
              "      <td>3.000000</td>\n",
              "      <td>40.000000</td>\n",
              "      <td>6.000000</td>\n",
              "      <td>4.000000</td>\n",
              "      <td>40.000000</td>\n",
              "      <td>18.000000</td>\n",
              "      <td>15.000000</td>\n",
              "      <td>17.000000</td>\n",
              "    </tr>\n",
              "  </tbody>\n",
              "</table>\n",
              "</div>"
            ],
            "text/plain": [
              "               Age    DailyRate  ...  YearsSinceLastPromotion  YearsWithCurrManager\n",
              "count  1470.000000  1470.000000  ...              1470.000000           1470.000000\n",
              "mean     36.923810   802.485714  ...                 2.187755              4.123129\n",
              "std       9.135373   403.509100  ...                 3.222430              3.568136\n",
              "min      18.000000   102.000000  ...                 0.000000              0.000000\n",
              "25%      30.000000   465.000000  ...                 0.000000              2.000000\n",
              "50%      36.000000   802.000000  ...                 1.000000              3.000000\n",
              "75%      43.000000  1157.000000  ...                 3.000000              7.000000\n",
              "max      60.000000  1499.000000  ...                15.000000             17.000000\n",
              "\n",
              "[8 rows x 26 columns]"
            ]
          },
          "metadata": {
            "tags": []
          },
          "execution_count": 373
        }
      ]
    },
    {
      "cell_type": "code",
      "metadata": {
        "colab": {
          "base_uri": "https://localhost:8080/",
          "height": 1000
        },
        "id": "jJ2b9n1pPD1O",
        "outputId": "c453701a-d86c-4437-8852-3b5c1136ad4b"
      },
      "source": [
        "#counting unique values for each feature\n",
        "\n",
        "col_name = []\n",
        "unique_vals = []\n",
        "data_type = []\n",
        "\n",
        "for col in emp_data_org.columns.values: # for each column\n",
        "  unique_entries = pd.unique(emp_data_org[col]) # unique elements in a column\n",
        "  unique_vals.append(len(unique_entries))\n",
        "  data_type.append(emp_data_org[col].dtype)\n",
        "\n",
        "pd.DataFrame({\"Column name\":emp_data_org.columns, \"Unique values count\":unique_vals, \"Data Type\":data_type})"
      ],
      "execution_count": 374,
      "outputs": [
        {
          "output_type": "execute_result",
          "data": {
            "text/html": [
              "<div>\n",
              "<style scoped>\n",
              "    .dataframe tbody tr th:only-of-type {\n",
              "        vertical-align: middle;\n",
              "    }\n",
              "\n",
              "    .dataframe tbody tr th {\n",
              "        vertical-align: top;\n",
              "    }\n",
              "\n",
              "    .dataframe thead th {\n",
              "        text-align: right;\n",
              "    }\n",
              "</style>\n",
              "<table border=\"1\" class=\"dataframe\">\n",
              "  <thead>\n",
              "    <tr style=\"text-align: right;\">\n",
              "      <th></th>\n",
              "      <th>Column name</th>\n",
              "      <th>Unique values count</th>\n",
              "      <th>Data Type</th>\n",
              "    </tr>\n",
              "  </thead>\n",
              "  <tbody>\n",
              "    <tr>\n",
              "      <th>0</th>\n",
              "      <td>Age</td>\n",
              "      <td>43</td>\n",
              "      <td>int64</td>\n",
              "    </tr>\n",
              "    <tr>\n",
              "      <th>1</th>\n",
              "      <td>Attrition</td>\n",
              "      <td>2</td>\n",
              "      <td>object</td>\n",
              "    </tr>\n",
              "    <tr>\n",
              "      <th>2</th>\n",
              "      <td>BusinessTravel</td>\n",
              "      <td>3</td>\n",
              "      <td>object</td>\n",
              "    </tr>\n",
              "    <tr>\n",
              "      <th>3</th>\n",
              "      <td>DailyRate</td>\n",
              "      <td>886</td>\n",
              "      <td>int64</td>\n",
              "    </tr>\n",
              "    <tr>\n",
              "      <th>4</th>\n",
              "      <td>Department</td>\n",
              "      <td>3</td>\n",
              "      <td>object</td>\n",
              "    </tr>\n",
              "    <tr>\n",
              "      <th>5</th>\n",
              "      <td>DistanceFromHome</td>\n",
              "      <td>29</td>\n",
              "      <td>int64</td>\n",
              "    </tr>\n",
              "    <tr>\n",
              "      <th>6</th>\n",
              "      <td>Education</td>\n",
              "      <td>5</td>\n",
              "      <td>int64</td>\n",
              "    </tr>\n",
              "    <tr>\n",
              "      <th>7</th>\n",
              "      <td>EducationField</td>\n",
              "      <td>6</td>\n",
              "      <td>object</td>\n",
              "    </tr>\n",
              "    <tr>\n",
              "      <th>8</th>\n",
              "      <td>EmployeeCount</td>\n",
              "      <td>1</td>\n",
              "      <td>int64</td>\n",
              "    </tr>\n",
              "    <tr>\n",
              "      <th>9</th>\n",
              "      <td>EmployeeNumber</td>\n",
              "      <td>1470</td>\n",
              "      <td>int64</td>\n",
              "    </tr>\n",
              "    <tr>\n",
              "      <th>10</th>\n",
              "      <td>EnvironmentSatisfaction</td>\n",
              "      <td>4</td>\n",
              "      <td>int64</td>\n",
              "    </tr>\n",
              "    <tr>\n",
              "      <th>11</th>\n",
              "      <td>Gender</td>\n",
              "      <td>2</td>\n",
              "      <td>object</td>\n",
              "    </tr>\n",
              "    <tr>\n",
              "      <th>12</th>\n",
              "      <td>HourlyRate</td>\n",
              "      <td>71</td>\n",
              "      <td>int64</td>\n",
              "    </tr>\n",
              "    <tr>\n",
              "      <th>13</th>\n",
              "      <td>JobInvolvement</td>\n",
              "      <td>4</td>\n",
              "      <td>int64</td>\n",
              "    </tr>\n",
              "    <tr>\n",
              "      <th>14</th>\n",
              "      <td>JobLevel</td>\n",
              "      <td>5</td>\n",
              "      <td>int64</td>\n",
              "    </tr>\n",
              "    <tr>\n",
              "      <th>15</th>\n",
              "      <td>JobRole</td>\n",
              "      <td>9</td>\n",
              "      <td>object</td>\n",
              "    </tr>\n",
              "    <tr>\n",
              "      <th>16</th>\n",
              "      <td>JobSatisfaction</td>\n",
              "      <td>4</td>\n",
              "      <td>int64</td>\n",
              "    </tr>\n",
              "    <tr>\n",
              "      <th>17</th>\n",
              "      <td>MaritalStatus</td>\n",
              "      <td>3</td>\n",
              "      <td>object</td>\n",
              "    </tr>\n",
              "    <tr>\n",
              "      <th>18</th>\n",
              "      <td>MonthlyIncome</td>\n",
              "      <td>1349</td>\n",
              "      <td>int64</td>\n",
              "    </tr>\n",
              "    <tr>\n",
              "      <th>19</th>\n",
              "      <td>MonthlyRate</td>\n",
              "      <td>1427</td>\n",
              "      <td>int64</td>\n",
              "    </tr>\n",
              "    <tr>\n",
              "      <th>20</th>\n",
              "      <td>NumCompaniesWorked</td>\n",
              "      <td>10</td>\n",
              "      <td>int64</td>\n",
              "    </tr>\n",
              "    <tr>\n",
              "      <th>21</th>\n",
              "      <td>Over18</td>\n",
              "      <td>1</td>\n",
              "      <td>object</td>\n",
              "    </tr>\n",
              "    <tr>\n",
              "      <th>22</th>\n",
              "      <td>OverTime</td>\n",
              "      <td>2</td>\n",
              "      <td>object</td>\n",
              "    </tr>\n",
              "    <tr>\n",
              "      <th>23</th>\n",
              "      <td>PercentSalaryHike</td>\n",
              "      <td>15</td>\n",
              "      <td>int64</td>\n",
              "    </tr>\n",
              "    <tr>\n",
              "      <th>24</th>\n",
              "      <td>PerformanceRating</td>\n",
              "      <td>2</td>\n",
              "      <td>int64</td>\n",
              "    </tr>\n",
              "    <tr>\n",
              "      <th>25</th>\n",
              "      <td>RelationshipSatisfaction</td>\n",
              "      <td>4</td>\n",
              "      <td>int64</td>\n",
              "    </tr>\n",
              "    <tr>\n",
              "      <th>26</th>\n",
              "      <td>StandardHours</td>\n",
              "      <td>1</td>\n",
              "      <td>int64</td>\n",
              "    </tr>\n",
              "    <tr>\n",
              "      <th>27</th>\n",
              "      <td>StockOptionLevel</td>\n",
              "      <td>4</td>\n",
              "      <td>int64</td>\n",
              "    </tr>\n",
              "    <tr>\n",
              "      <th>28</th>\n",
              "      <td>TotalWorkingYears</td>\n",
              "      <td>40</td>\n",
              "      <td>int64</td>\n",
              "    </tr>\n",
              "    <tr>\n",
              "      <th>29</th>\n",
              "      <td>TrainingTimesLastYear</td>\n",
              "      <td>7</td>\n",
              "      <td>int64</td>\n",
              "    </tr>\n",
              "    <tr>\n",
              "      <th>30</th>\n",
              "      <td>WorkLifeBalance</td>\n",
              "      <td>4</td>\n",
              "      <td>int64</td>\n",
              "    </tr>\n",
              "    <tr>\n",
              "      <th>31</th>\n",
              "      <td>YearsAtCompany</td>\n",
              "      <td>37</td>\n",
              "      <td>int64</td>\n",
              "    </tr>\n",
              "    <tr>\n",
              "      <th>32</th>\n",
              "      <td>YearsInCurrentRole</td>\n",
              "      <td>19</td>\n",
              "      <td>int64</td>\n",
              "    </tr>\n",
              "    <tr>\n",
              "      <th>33</th>\n",
              "      <td>YearsSinceLastPromotion</td>\n",
              "      <td>16</td>\n",
              "      <td>int64</td>\n",
              "    </tr>\n",
              "    <tr>\n",
              "      <th>34</th>\n",
              "      <td>YearsWithCurrManager</td>\n",
              "      <td>18</td>\n",
              "      <td>int64</td>\n",
              "    </tr>\n",
              "  </tbody>\n",
              "</table>\n",
              "</div>"
            ],
            "text/plain": [
              "                 Column name  Unique values count Data Type\n",
              "0                        Age                   43     int64\n",
              "1                  Attrition                    2    object\n",
              "2             BusinessTravel                    3    object\n",
              "3                  DailyRate                  886     int64\n",
              "4                 Department                    3    object\n",
              "5           DistanceFromHome                   29     int64\n",
              "6                  Education                    5     int64\n",
              "7             EducationField                    6    object\n",
              "8              EmployeeCount                    1     int64\n",
              "9             EmployeeNumber                 1470     int64\n",
              "10   EnvironmentSatisfaction                    4     int64\n",
              "11                    Gender                    2    object\n",
              "12                HourlyRate                   71     int64\n",
              "13            JobInvolvement                    4     int64\n",
              "14                  JobLevel                    5     int64\n",
              "15                   JobRole                    9    object\n",
              "16           JobSatisfaction                    4     int64\n",
              "17             MaritalStatus                    3    object\n",
              "18             MonthlyIncome                 1349     int64\n",
              "19               MonthlyRate                 1427     int64\n",
              "20        NumCompaniesWorked                   10     int64\n",
              "21                    Over18                    1    object\n",
              "22                  OverTime                    2    object\n",
              "23         PercentSalaryHike                   15     int64\n",
              "24         PerformanceRating                    2     int64\n",
              "25  RelationshipSatisfaction                    4     int64\n",
              "26             StandardHours                    1     int64\n",
              "27          StockOptionLevel                    4     int64\n",
              "28         TotalWorkingYears                   40     int64\n",
              "29     TrainingTimesLastYear                    7     int64\n",
              "30           WorkLifeBalance                    4     int64\n",
              "31            YearsAtCompany                   37     int64\n",
              "32        YearsInCurrentRole                   19     int64\n",
              "33   YearsSinceLastPromotion                   16     int64\n",
              "34      YearsWithCurrManager                   18     int64"
            ]
          },
          "metadata": {
            "tags": []
          },
          "execution_count": 374
        }
      ]
    },
    {
      "cell_type": "markdown",
      "metadata": {
        "id": "n1vShaGMOuhW"
      },
      "source": [
        "**Observations:**\n",
        "\n",
        "1. All the object type entries have few unique values, so these are baiscally categorical data.\n",
        "2. \"Employee Number\" has 1470 unique values, one for each employee. It does not help in predicting attrition, this can be removed.\n",
        "3. \"EmployeeCount\", \"Standardhours\" and \"Over18\" has only one unique value i.e. this feature is same for each employee, does not help in prediction, will be removed.\n",
        "4. Some intger type data is also categorical type i.e. Education, EnvironmentSatisfaction, JobInvolvement, JobLevel, JobSatisfaction, PerformanceRating, RelationshipSatisfaction, WorkLifeBalance, StockOptionLevel."
      ]
    },
    {
      "cell_type": "markdown",
      "metadata": {
        "id": "p8drvAg4UIUS"
      },
      "source": [
        "\n",
        "**Attrition Target Variable Distribution**"
      ]
    },
    {
      "cell_type": "code",
      "metadata": {
        "colab": {
          "base_uri": "https://localhost:8080/",
          "height": 347
        },
        "id": "5oDURTm7T7Zs",
        "outputId": "ea35a805-574b-4111-c8c9-2405b57d6295"
      },
      "source": [
        "attrition_freq = emp_data_org[['Attrition']].apply(lambda x: x.value_counts())\n",
        "attrition_freq['frequency_percent'] = round((100 * attrition_freq / attrition_freq.sum()),2)\n",
        "\n",
        "print(attrition_freq)\n",
        "\n",
        "# Attrition distribution bar plot\n",
        "plot = attrition_freq[['frequency_percent']].plot(kind=\"bar\");\n",
        "plot.set_title(\"Attrition Distribution\", fontsize=20);\n",
        "plot.grid(color='lightgray', alpha=0.5);"
      ],
      "execution_count": 375,
      "outputs": [
        {
          "output_type": "stream",
          "text": [
            "     Attrition  frequency_percent\n",
            "No        1233              83.88\n",
            "Yes        237              16.12\n"
          ],
          "name": "stdout"
        },
        {
          "output_type": "display_data",
          "data": {
            "image/png": "[encoded data removed]",
            "text/plain": [
              "<Figure size 432x288 with 1 Axes>"
            ]
          },
          "metadata": {
            "tags": [],
            "needs_background": "light"
          }
        }
      ]
    },
    {
      "cell_type": "markdown",
      "metadata": {
        "id": "12YyZhipWp-s"
      },
      "source": [
        "**Observations**\n",
        "1. Data is highly imbalanced towards one of the target class.\n",
        "2. Such a data imbalance can cause our ML models to be biased towards the majority class.\n",
        "2. I will try to use oversampling technique SMOTE to handle this imabalnce."
      ]
    },
    {
      "cell_type": "markdown",
      "metadata": {
        "id": "qjtNZj5jXjrt"
      },
      "source": [
        "##Exploratory Data Analysis"
      ]
    },
    {
      "cell_type": "markdown",
      "metadata": {
        "id": "ZBKtZZGUYNOh"
      },
      "source": [
        "###Visualize & understand how different categorical features are behaving against attrition indicator"
      ]
    },
    {
      "cell_type": "code",
      "metadata": {
        "colab": {
          "base_uri": "https://localhost:8080/",
          "height": 313
        },
        "id": "LgPBG34CWpj3",
        "outputId": "4365c93e-2d5e-46f5-f427-a9b6c2d33b99"
      },
      "source": [
        "emp_viz_df = emp_data_org.copy() \n",
        "\n",
        "#Adding 2 features for EDA: Employee left and not left\n",
        "emp_viz_df['Attrition_Yes'] = emp_viz_df['Attrition'].map({'Yes':1, 'No':0}) # 1 means Employee Left\n",
        "emp_viz_df['Attrition_No'] = emp_viz_df['Attrition'].map({'Yes':0, 'No':1}) # 1 means Employee didnt leave\n",
        "\n",
        "# Let's look into the new dataset and identify features for which plots needs to be build for categorical features\n",
        "emp_viz_df.head()"
      ],
      "execution_count": 376,
      "outputs": [
        {
          "output_type": "execute_result",
          "data": {
            "text/html": [
              "<div>\n",
              "<style scoped>\n",
              "    .dataframe tbody tr th:only-of-type {\n",
              "        vertical-align: middle;\n",
              "    }\n",
              "\n",
              "    .dataframe tbody tr th {\n",
              "        vertical-align: top;\n",
              "    }\n",
              "\n",
              "    .dataframe thead th {\n",
              "        text-align: right;\n",
              "    }\n",
              "</style>\n",
              "<table border=\"1\" class=\"dataframe\">\n",
              "  <thead>\n",
              "    <tr style=\"text-align: right;\">\n",
              "      <th></th>\n",
              "      <th>Age</th>\n",
              "      <th>Attrition</th>\n",
              "      <th>BusinessTravel</th>\n",
              "      <th>DailyRate</th>\n",
              "      <th>Department</th>\n",
              "      <th>DistanceFromHome</th>\n",
              "      <th>Education</th>\n",
              "      <th>EducationField</th>\n",
              "      <th>EmployeeCount</th>\n",
              "      <th>EmployeeNumber</th>\n",
              "      <th>EnvironmentSatisfaction</th>\n",
              "      <th>Gender</th>\n",
              "      <th>HourlyRate</th>\n",
              "      <th>JobInvolvement</th>\n",
              "      <th>JobLevel</th>\n",
              "      <th>JobRole</th>\n",
              "      <th>JobSatisfaction</th>\n",
              "      <th>MaritalStatus</th>\n",
              "      <th>MonthlyIncome</th>\n",
              "      <th>MonthlyRate</th>\n",
              "      <th>NumCompaniesWorked</th>\n",
              "      <th>Over18</th>\n",
              "      <th>OverTime</th>\n",
              "      <th>PercentSalaryHike</th>\n",
              "      <th>PerformanceRating</th>\n",
              "      <th>RelationshipSatisfaction</th>\n",
              "      <th>StandardHours</th>\n",
              "      <th>StockOptionLevel</th>\n",
              "      <th>TotalWorkingYears</th>\n",
              "      <th>TrainingTimesLastYear</th>\n",
              "      <th>WorkLifeBalance</th>\n",
              "      <th>YearsAtCompany</th>\n",
              "      <th>YearsInCurrentRole</th>\n",
              "      <th>YearsSinceLastPromotion</th>\n",
              "      <th>YearsWithCurrManager</th>\n",
              "      <th>Attrition_Yes</th>\n",
              "      <th>Attrition_No</th>\n",
              "    </tr>\n",
              "  </thead>\n",
              "  <tbody>\n",
              "    <tr>\n",
              "      <th>0</th>\n",
              "      <td>41</td>\n",
              "      <td>Yes</td>\n",
              "      <td>Travel_Rarely</td>\n",
              "      <td>1102</td>\n",
              "      <td>Sales</td>\n",
              "      <td>1</td>\n",
              "      <td>2</td>\n",
              "      <td>Life Sciences</td>\n",
              "      <td>1</td>\n",
              "      <td>1</td>\n",
              "      <td>2</td>\n",
              "      <td>Female</td>\n",
              "      <td>94</td>\n",
              "      <td>3</td>\n",
              "      <td>2</td>\n",
              "      <td>Sales Executive</td>\n",
              "      <td>4</td>\n",
              "      <td>Single</td>\n",
              "      <td>5993</td>\n",
              "      <td>19479</td>\n",
              "      <td>8</td>\n",
              "      <td>Y</td>\n",
              "      <td>Yes</td>\n",
              "      <td>11</td>\n",
              "      <td>3</td>\n",
              "      <td>1</td>\n",
              "      <td>80</td>\n",
              "      <td>0</td>\n",
              "      <td>8</td>\n",
              "      <td>0</td>\n",
              "      <td>1</td>\n",
              "      <td>6</td>\n",
              "      <td>4</td>\n",
              "      <td>0</td>\n",
              "      <td>5</td>\n",
              "      <td>1</td>\n",
              "      <td>0</td>\n",
              "    </tr>\n",
              "    <tr>\n",
              "      <th>1</th>\n",
              "      <td>49</td>\n",
              "      <td>No</td>\n",
              "      <td>Travel_Frequently</td>\n",
              "      <td>279</td>\n",
              "      <td>Research &amp; Development</td>\n",
              "      <td>8</td>\n",
              "      <td>1</td>\n",
              "      <td>Life Sciences</td>\n",
              "      <td>1</td>\n",
              "      <td>2</td>\n",
              "      <td>3</td>\n",
              "      <td>Male</td>\n",
              "      <td>61</td>\n",
              "      <td>2</td>\n",
              "      <td>2</td>\n",
              "      <td>Research Scientist</td>\n",
              "      <td>2</td>\n",
              "      <td>Married</td>\n",
              "      <td>5130</td>\n",
              "      <td>24907</td>\n",
              "      <td>1</td>\n",
              "      <td>Y</td>\n",
              "      <td>No</td>\n",
              "      <td>23</td>\n",
              "      <td>4</td>\n",
              "      <td>4</td>\n",
              "      <td>80</td>\n",
              "      <td>1</td>\n",
              "      <td>10</td>\n",
              "      <td>3</td>\n",
              "      <td>3</td>\n",
              "      <td>10</td>\n",
              "      <td>7</td>\n",
              "      <td>1</td>\n",
              "      <td>7</td>\n",
              "      <td>0</td>\n",
              "      <td>1</td>\n",
              "    </tr>\n",
              "    <tr>\n",
              "      <th>2</th>\n",
              "      <td>37</td>\n",
              "      <td>Yes</td>\n",
              "      <td>Travel_Rarely</td>\n",
              "      <td>1373</td>\n",
              "      <td>Research &amp; Development</td>\n",
              "      <td>2</td>\n",
              "      <td>2</td>\n",
              "      <td>Other</td>\n",
              "      <td>1</td>\n",
              "      <td>4</td>\n",
              "      <td>4</td>\n",
              "      <td>Male</td>\n",
              "      <td>92</td>\n",
              "      <td>2</td>\n",
              "      <td>1</td>\n",
              "      <td>Laboratory Technician</td>\n",
              "      <td>3</td>\n",
              "      <td>Single</td>\n",
              "      <td>2090</td>\n",
              "      <td>2396</td>\n",
              "      <td>6</td>\n",
              "      <td>Y</td>\n",
              "      <td>Yes</td>\n",
              "      <td>15</td>\n",
              "      <td>3</td>\n",
              "      <td>2</td>\n",
              "      <td>80</td>\n",
              "      <td>0</td>\n",
              "      <td>7</td>\n",
              "      <td>3</td>\n",
              "      <td>3</td>\n",
              "      <td>0</td>\n",
              "      <td>0</td>\n",
              "      <td>0</td>\n",
              "      <td>0</td>\n",
              "      <td>1</td>\n",
              "      <td>0</td>\n",
              "    </tr>\n",
              "    <tr>\n",
              "      <th>3</th>\n",
              "      <td>33</td>\n",
              "      <td>No</td>\n",
              "      <td>Travel_Frequently</td>\n",
              "      <td>1392</td>\n",
              "      <td>Research &amp; Development</td>\n",
              "      <td>3</td>\n",
              "      <td>4</td>\n",
              "      <td>Life Sciences</td>\n",
              "      <td>1</td>\n",
              "      <td>5</td>\n",
              "      <td>4</td>\n",
              "      <td>Female</td>\n",
              "      <td>56</td>\n",
              "      <td>3</td>\n",
              "      <td>1</td>\n",
              "      <td>Research Scientist</td>\n",
              "      <td>3</td>\n",
              "      <td>Married</td>\n",
              "      <td>2909</td>\n",
              "      <td>23159</td>\n",
              "      <td>1</td>\n",
              "      <td>Y</td>\n",
              "      <td>Yes</td>\n",
              "      <td>11</td>\n",
              "      <td>3</td>\n",
              "      <td>3</td>\n",
              "      <td>80</td>\n",
              "      <td>0</td>\n",
              "      <td>8</td>\n",
              "      <td>3</td>\n",
              "      <td>3</td>\n",
              "      <td>8</td>\n",
              "      <td>7</td>\n",
              "      <td>3</td>\n",
              "      <td>0</td>\n",
              "      <td>0</td>\n",
              "      <td>1</td>\n",
              "    </tr>\n",
              "    <tr>\n",
              "      <th>4</th>\n",
              "      <td>27</td>\n",
              "      <td>No</td>\n",
              "      <td>Travel_Rarely</td>\n",
              "      <td>591</td>\n",
              "      <td>Research &amp; Development</td>\n",
              "      <td>2</td>\n",
              "      <td>1</td>\n",
              "      <td>Medical</td>\n",
              "      <td>1</td>\n",
              "      <td>7</td>\n",
              "      <td>1</td>\n",
              "      <td>Male</td>\n",
              "      <td>40</td>\n",
              "      <td>3</td>\n",
              "      <td>1</td>\n",
              "      <td>Laboratory Technician</td>\n",
              "      <td>2</td>\n",
              "      <td>Married</td>\n",
              "      <td>3468</td>\n",
              "      <td>16632</td>\n",
              "      <td>9</td>\n",
              "      <td>Y</td>\n",
              "      <td>No</td>\n",
              "      <td>12</td>\n",
              "      <td>3</td>\n",
              "      <td>4</td>\n",
              "      <td>80</td>\n",
              "      <td>1</td>\n",
              "      <td>6</td>\n",
              "      <td>3</td>\n",
              "      <td>3</td>\n",
              "      <td>2</td>\n",
              "      <td>2</td>\n",
              "      <td>2</td>\n",
              "      <td>2</td>\n",
              "      <td>0</td>\n",
              "      <td>1</td>\n",
              "    </tr>\n",
              "  </tbody>\n",
              "</table>\n",
              "</div>"
            ],
            "text/plain": [
              "   Age Attrition  ... Attrition_Yes  Attrition_No\n",
              "0   41       Yes  ...             1             0\n",
              "1   49        No  ...             0             1\n",
              "2   37       Yes  ...             1             0\n",
              "3   33        No  ...             0             1\n",
              "4   27        No  ...             0             1\n",
              "\n",
              "[5 rows x 37 columns]"
            ]
          },
          "metadata": {
            "tags": []
          },
          "execution_count": 376
        }
      ]
    },
    {
      "cell_type": "code",
      "metadata": {
        "colab": {
          "base_uri": "https://localhost:8080/"
        },
        "id": "DTu01QN_YnDU",
        "outputId": "29fc43ff-e707-41b0-fbf4-32016fca2733"
      },
      "source": [
        "cat_col_names = emp_viz_df.select_dtypes(include=[np.object]).columns.tolist() # Get categorical feature names\n",
        "cat_col_names"
      ],
      "execution_count": 377,
      "outputs": [
        {
          "output_type": "execute_result",
          "data": {
            "text/plain": [
              "['Attrition',\n",
              " 'BusinessTravel',\n",
              " 'Department',\n",
              " 'EducationField',\n",
              " 'Gender',\n",
              " 'JobRole',\n",
              " 'MaritalStatus',\n",
              " 'Over18',\n",
              " 'OverTime']"
            ]
          },
          "metadata": {
            "tags": []
          },
          "execution_count": 377
        }
      ]
    },
    {
      "cell_type": "code",
      "metadata": {
        "id": "P4soQo8tZJGg"
      },
      "source": [
        "def generate_frequency_graph(col_name):\n",
        "    \n",
        "    # Plotting of Employee Attrition against feature\n",
        "    temp_grp = emp_viz_df.groupby(col_name).agg('sum')[['Attrition_Yes', 'Attrition_No']]\n",
        "    temp_grp['Percentage Attrition'] =  temp_grp['Attrition_Yes'] / (temp_grp['Attrition_Yes'] + temp_grp['Attrition_No']) * 100\n",
        "    print(temp_grp)\n",
        "    emp_viz_df.groupby(col_name).agg('sum')[['Attrition_Yes', 'Attrition_No']].plot(kind='bar', stacked=False, color=['red', 'green'])\n",
        "    plt.xlabel(col_name)\n",
        "    plt.ylabel('Attrition');\n"
      ],
      "execution_count": 378,
      "outputs": []
    },
    {
      "cell_type": "code",
      "metadata": {
        "colab": {
          "base_uri": "https://localhost:8080/",
          "height": 449
        },
        "id": "D6-ceNcSZT1b",
        "outputId": "a2a2840b-c379-43f6-ceaa-62fc82386291"
      },
      "source": [
        "# Plotting of Employee Attrition against Business Travel feature\n",
        "generate_frequency_graph('BusinessTravel')"
      ],
      "execution_count": 379,
      "outputs": [
        {
          "output_type": "stream",
          "text": [
            "                   Attrition_Yes  Attrition_No  Percentage Attrition\n",
            "BusinessTravel                                                      \n",
            "Non-Travel                    12           138              8.000000\n",
            "Travel_Frequently             69           208             24.909747\n",
            "Travel_Rarely                156           887             14.956855\n"
          ],
          "name": "stdout"
        },
        {
          "output_type": "display_data",
          "data": {
            "image/png": "[encoded data removed]",
            "text/plain": [
              "<Figure size 432x288 with 1 Axes>"
            ]
          },
          "metadata": {
            "tags": [],
            "needs_background": "light"
          }
        }
      ]
    },
    {
      "cell_type": "markdown",
      "metadata": {
        "id": "ziu6MPwlZggu"
      },
      "source": [
        "Employee attrition precentage is the highest for employees who travel_frequently followed by travel_rarely and non_travel"
      ]
    },
    {
      "cell_type": "code",
      "metadata": {
        "colab": {
          "base_uri": "https://localhost:8080/",
          "height": 488
        },
        "id": "TSYOmpbjaIXs",
        "outputId": "00d6629c-d718-4d96-87c9-ceda3a309da8"
      },
      "source": [
        "# Plotting of Employee Attrition against Department feature\n",
        "generate_frequency_graph('Department')"
      ],
      "execution_count": 380,
      "outputs": [
        {
          "output_type": "stream",
          "text": [
            "                        Attrition_Yes  Attrition_No  Percentage Attrition\n",
            "Department                                                               \n",
            "Human Resources                    12            51             19.047619\n",
            "Research & Development            133           828             13.839750\n",
            "Sales                              92           354             20.627803\n"
          ],
          "name": "stdout"
        },
        {
          "output_type": "display_data",
          "data": {
            "image/png": "[encoded data removed]",
            "text/plain": [
              "<Figure size 432x288 with 1 Axes>"
            ]
          },
          "metadata": {
            "tags": [],
            "needs_background": "light"
          }
        }
      ]
    },
    {
      "cell_type": "markdown",
      "metadata": {
        "id": "favQsXU4aYqa"
      },
      "source": [
        "Attrition is highest for Sales department, followed by HR and R&D."
      ]
    },
    {
      "cell_type": "code",
      "metadata": {
        "colab": {
          "base_uri": "https://localhost:8080/",
          "height": 507
        },
        "id": "08m5H-xwbvqw",
        "outputId": "ad5a4a8a-c731-4319-c751-0b7c66801c6a"
      },
      "source": [
        "# Plotting of Employee Attrition against EducationField  feature\n",
        "generate_frequency_graph('EducationField')"
      ],
      "execution_count": 381,
      "outputs": [
        {
          "output_type": "stream",
          "text": [
            "                  Attrition_Yes  Attrition_No  Percentage Attrition\n",
            "EducationField                                                     \n",
            "Human Resources               7            20             25.925926\n",
            "Life Sciences                89           517             14.686469\n",
            "Marketing                    35           124             22.012579\n",
            "Medical                      63           401             13.577586\n",
            "Other                        11            71             13.414634\n",
            "Technical Degree             32           100             24.242424\n"
          ],
          "name": "stdout"
        },
        {
          "output_type": "display_data",
          "data": {
            "image/png": "[encoded data removed]",
            "text/plain": [
              "<Figure size 432x288 with 1 Axes>"
            ]
          },
          "metadata": {
            "tags": [],
            "needs_background": "light"
          }
        }
      ]
    },
    {
      "cell_type": "markdown",
      "metadata": {
        "id": "X_puUuelcF7I"
      },
      "source": [
        "Employees who studied HR and employees with technical degree have highest attrition."
      ]
    },
    {
      "cell_type": "code",
      "metadata": {
        "colab": {
          "base_uri": "https://localhost:8080/",
          "height": 379
        },
        "id": "a7RtGT2Salxp",
        "outputId": "004d33df-5fd3-4a93-9a99-dd21a84e23bb"
      },
      "source": [
        "# Plotting of Employee Attrition against Gender feature\n",
        "generate_frequency_graph('Gender')"
      ],
      "execution_count": 382,
      "outputs": [
        {
          "output_type": "stream",
          "text": [
            "        Attrition_Yes  Attrition_No  Percentage Attrition\n",
            "Gender                                                   \n",
            "Female             87           501             14.795918\n",
            "Male              150           732             17.006803\n"
          ],
          "name": "stdout"
        },
        {
          "output_type": "display_data",
          "data": {
            "image/png": "[encoded data removed]",
            "text/plain": [
              "<Figure size 432x288 with 1 Axes>"
            ]
          },
          "metadata": {
            "tags": [],
            "needs_background": "light"
          }
        }
      ]
    },
    {
      "cell_type": "markdown",
      "metadata": {
        "id": "atewW75Jaxlq"
      },
      "source": [
        "Attrition is higher for Male employees compared to Females."
      ]
    },
    {
      "cell_type": "code",
      "metadata": {
        "colab": {
          "base_uri": "https://localhost:8080/",
          "height": 605
        },
        "id": "4yat2hcscZ24",
        "outputId": "440f5a69-e0da-446a-e262-4a6095c84c36"
      },
      "source": [
        "# Plotting of Employee Attrition against MaritalStatus feature\n",
        "generate_frequency_graph('JobRole')"
      ],
      "execution_count": 383,
      "outputs": [
        {
          "output_type": "stream",
          "text": [
            "                           Attrition_Yes  Attrition_No  Percentage Attrition\n",
            "JobRole                                                                     \n",
            "Healthcare Representative              9           122              6.870229\n",
            "Human Resources                       12            40             23.076923\n",
            "Laboratory Technician                 62           197             23.938224\n",
            "Manager                                5            97              4.901961\n",
            "Manufacturing Director                10           135              6.896552\n",
            "Research Director                      2            78              2.500000\n",
            "Research Scientist                    47           245             16.095890\n",
            "Sales Executive                       57           269             17.484663\n",
            "Sales Representative                  33            50             39.759036\n"
          ],
          "name": "stdout"
        },
        {
          "output_type": "display_data",
          "data": {
            "image/png": "[encoded data removed]",
            "text/plain": [
              "<Figure size 432x288 with 1 Axes>"
            ]
          },
          "metadata": {
            "tags": [],
            "needs_background": "light"
          }
        }
      ]
    },
    {
      "cell_type": "markdown",
      "metadata": {
        "id": "z8Eb6t6eclJU"
      },
      "source": [
        "Sales Representative employees have highest percentage of attrition."
      ]
    },
    {
      "cell_type": "code",
      "metadata": {
        "colab": {
          "base_uri": "https://localhost:8080/",
          "height": 406
        },
        "id": "_hMlqCXqa39x",
        "outputId": "5c4b4480-230f-4a40-a017-436ea3640af8"
      },
      "source": [
        "# Plotting of Employee Attrition against MaritalStatus feature\n",
        "generate_frequency_graph('MaritalStatus')"
      ],
      "execution_count": 384,
      "outputs": [
        {
          "output_type": "stream",
          "text": [
            "               Attrition_Yes  Attrition_No  Percentage Attrition\n",
            "MaritalStatus                                                   \n",
            "Divorced                  33           294             10.091743\n",
            "Married                   84           589             12.481426\n",
            "Single                   120           350             25.531915\n"
          ],
          "name": "stdout"
        },
        {
          "output_type": "display_data",
          "data": {
            "image/png": "[encoded data removed]",
            "text/plain": [
              "<Figure size 432x288 with 1 Axes>"
            ]
          },
          "metadata": {
            "tags": [],
            "needs_background": "light"
          }
        }
      ]
    },
    {
      "cell_type": "markdown",
      "metadata": {
        "id": "WiYnsOk9bBLS"
      },
      "source": [
        "Single employees have highest attrition, then married and then divorced."
      ]
    },
    {
      "cell_type": "code",
      "metadata": {
        "colab": {
          "base_uri": "https://localhost:8080/",
          "height": 359
        },
        "id": "ggz1_031bJl6",
        "outputId": "c58f3147-f2f7-4989-fb45-8560fd7e8da4"
      },
      "source": [
        "# Plotting of Employee Attrition against MaritalStatus feature\n",
        "generate_frequency_graph('OverTime')"
      ],
      "execution_count": 385,
      "outputs": [
        {
          "output_type": "stream",
          "text": [
            "          Attrition_Yes  Attrition_No  Percentage Attrition\n",
            "OverTime                                                   \n",
            "No                  110           944             10.436433\n",
            "Yes                 127           289             30.528846\n"
          ],
          "name": "stdout"
        },
        {
          "output_type": "display_data",
          "data": {
            "image/png": "[encoded data removed]",
            "text/plain": [
              "<Figure size 432x288 with 1 Axes>"
            ]
          },
          "metadata": {
            "tags": [],
            "needs_background": "light"
          }
        }
      ]
    },
    {
      "cell_type": "markdown",
      "metadata": {
        "id": "e6RU8kJFbQuI"
      },
      "source": [
        "Attrition is higher for employees who do over time."
      ]
    },
    {
      "cell_type": "markdown",
      "metadata": {
        "id": "Y08x65YJdNhB"
      },
      "source": [
        "### Visualization & understanding how different ordered categorical features are behaving against attrition indicator i.e. Education, EnvironmentSatisfaction, JobInvolvement, JobLevel, JobSatisfaction, PerformanceRating, RelationshipSatisfaction, WorkLifeBalance, StockOptionLevel."
      ]
    },
    {
      "cell_type": "code",
      "metadata": {
        "colab": {
          "base_uri": "https://localhost:8080/",
          "height": 0
        },
        "id": "2JzO4YbqbcwQ",
        "outputId": "360367bf-546f-482e-8b3f-50c3c1a8fe61"
      },
      "source": [
        "# Plotting of Employee Attrition against Education feature\n",
        "generate_frequency_graph('Education')"
      ],
      "execution_count": 386,
      "outputs": [
        {
          "output_type": "stream",
          "text": [
            "           Attrition_Yes  Attrition_No  Percentage Attrition\n",
            "Education                                                   \n",
            "1                     31           139             18.235294\n",
            "2                     44           238             15.602837\n",
            "3                     99           473             17.307692\n",
            "4                     58           340             14.572864\n",
            "5                      5            43             10.416667\n"
          ],
          "name": "stdout"
        },
        {
          "output_type": "display_data",
          "data": {
            "image/png": "[encoded data removed]",
            "text/plain": [
              "<Figure size 432x288 with 1 Axes>"
            ]
          },
          "metadata": {
            "tags": [],
            "needs_background": "light"
          }
        }
      ]
    },
    {
      "cell_type": "markdown",
      "metadata": {
        "id": "gY_4_hrQeAgQ"
      },
      "source": [
        "Attrition is highest for low Education level(1) and lowest for high Education level(5)."
      ]
    },
    {
      "cell_type": "code",
      "metadata": {
        "colab": {
          "base_uri": "https://localhost:8080/",
          "height": 0
        },
        "id": "RK9A12Ndd7Fo",
        "outputId": "91eeb69b-0f8c-47e9-a557-8e1a8d054ccf"
      },
      "source": [
        "# Plotting of Employee Attrition against JobSatisfaction feature\n",
        "generate_frequency_graph('JobSatisfaction')"
      ],
      "execution_count": 387,
      "outputs": [
        {
          "output_type": "stream",
          "text": [
            "                 Attrition_Yes  Attrition_No  Percentage Attrition\n",
            "JobSatisfaction                                                   \n",
            "1                           66           223             22.837370\n",
            "2                           46           234             16.428571\n",
            "3                           73           369             16.515837\n",
            "4                           52           407             11.328976\n"
          ],
          "name": "stdout"
        },
        {
          "output_type": "display_data",
          "data": {
            "image/png": "[encoded data removed]",
            "text/plain": [
              "<Figure size 432x288 with 1 Axes>"
            ]
          },
          "metadata": {
            "tags": [],
            "needs_background": "light"
          }
        }
      ]
    },
    {
      "cell_type": "markdown",
      "metadata": {
        "id": "_jqTYQC4efSg"
      },
      "source": [
        "Low job satisfaction corresponds to high attrition and high job satisfaction corresponds to low attrition."
      ]
    },
    {
      "cell_type": "code",
      "metadata": {
        "colab": {
          "base_uri": "https://localhost:8080/",
          "height": 0
        },
        "id": "CnDWO4v0eocg",
        "outputId": "065ee39e-5417-4b5e-b23a-a0f65430d931"
      },
      "source": [
        "# Plotting of Employee Attrition against WorkLifeBalance feature\n",
        "generate_frequency_graph('WorkLifeBalance')"
      ],
      "execution_count": 388,
      "outputs": [
        {
          "output_type": "stream",
          "text": [
            "                 Attrition_Yes  Attrition_No  Percentage Attrition\n",
            "WorkLifeBalance                                                   \n",
            "1                           25            55             31.250000\n",
            "2                           58           286             16.860465\n",
            "3                          127           766             14.221725\n",
            "4                           27           126             17.647059\n"
          ],
          "name": "stdout"
        },
        {
          "output_type": "display_data",
          "data": {
            "image/png": "[encoded data removed]",
            "text/plain": [
              "<Figure size 432x288 with 1 Axes>"
            ]
          },
          "metadata": {
            "tags": [],
            "needs_background": "light"
          }
        }
      ]
    },
    {
      "cell_type": "markdown",
      "metadata": {
        "id": "UIQaYDzTexy8"
      },
      "source": [
        "Low WorkLifeBalance corresponds to high attrition and vice versa."
      ]
    },
    {
      "cell_type": "markdown",
      "metadata": {
        "id": "_TlI0E3He_63"
      },
      "source": [
        "Similar inference can be drawn for other features as well, it gives us some insight into importance of features in predicting attrition."
      ]
    },
    {
      "cell_type": "markdown",
      "metadata": {
        "id": "M_oc7u7ffP83"
      },
      "source": [
        "### Exploratory Data Analysis - Numerical Features"
      ]
    },
    {
      "cell_type": "markdown",
      "metadata": {
        "id": "qgZ87UQ4jSb9"
      },
      "source": [
        "Visualizing data distribution of numerical features. Usually, prediction model works well if the data distribution is normal distribution. So, if there are skewed data distirubtion then we can make them normal distribution through log transformations."
      ]
    },
    {
      "cell_type": "code",
      "metadata": {
        "colab": {
          "base_uri": "https://localhost:8080/",
          "height": 297
        },
        "id": "9CuQyG9Be3yV",
        "outputId": "b40c1839-73fa-4911-c747-5c33f5edf52c"
      },
      "source": [
        "fig = plt.figure(figsize=(16,4))\n",
        "\n",
        "# Histogram Plot for Employee Age\n",
        "plt.subplot(1,2,1)\n",
        "plt.hist(emp_viz_df['Age'], bins=15, color='green')\n",
        "plt.title('Distribution of Employee Age')\n",
        "plt.xlabel(\"Employee Age\")\n",
        "\n",
        "# Histogram Plot for employee Monthly Income\n",
        "plt.subplot(1,2,2)\n",
        "plt.hist(emp_viz_df['MonthlyIncome'], bins=30, color='red')\n",
        "plt.title('Distribution of Employee Monthly Income')\n",
        "plt.xlabel(\"Employee Monthly Income\")\n",
        "\n",
        "fig.tight_layout()"
      ],
      "execution_count": 389,
      "outputs": [
        {
          "output_type": "display_data",
          "data": {
            "image/png": "[encoded data removed]",
            "text/plain": [
              "<Figure size 1152x288 with 2 Axes>"
            ]
          },
          "metadata": {
            "tags": [],
            "needs_background": "light"
          }
        }
      ]
    },
    {
      "cell_type": "code",
      "metadata": {
        "colab": {
          "base_uri": "https://localhost:8080/"
        },
        "id": "Zjc5byo2kd1z",
        "outputId": "7c2460a8-92a8-48f4-d45f-a4687ffff769"
      },
      "source": [
        "print('Skewness in employee Age feature: ', emp_viz_df['Age'].skew())\n",
        "print('Skewness in employee Monthly Income feature: ', emp_viz_df['MonthlyIncome'].skew())"
      ],
      "execution_count": 390,
      "outputs": [
        {
          "output_type": "stream",
          "text": [
            "Skewness in employee Age feature:  0.4132863018563338\n",
            "Skewness in employee Monthly Income feature:  1.3698166808390662\n"
          ],
          "name": "stdout"
        }
      ]
    },
    {
      "cell_type": "markdown",
      "metadata": {
        "id": "wE2o0q-bjqFs"
      },
      "source": [
        "Observation:\n",
        "1. Employee Age is not much skewed.\n",
        "2. Employee Monthly Income is right skewed.\n",
        "\n",
        "We will apply log transformation on both these features and then see how the graph of distribution after transformation changes."
      ]
    },
    {
      "cell_type": "code",
      "metadata": {
        "colab": {
          "base_uri": "https://localhost:8080/",
          "height": 297
        },
        "id": "LV2AwX8rkE5k",
        "outputId": "63f0f6c8-fa30-4f0b-bc6f-7c09cd4d36b5"
      },
      "source": [
        "fig = plt.figure(figsize=(16,4))\n",
        "\n",
        "# Histogram Plot for Employee Age\n",
        "plt.subplot(1,2,1)\n",
        "plt.hist(np.log1p(emp_viz_df['Age']), bins=20, color='green')\n",
        "plt.title('Distribution of Employee Age')\n",
        "plt.xlabel(\"Log of Employee Age\")\n",
        "\n",
        "# Histogram Plot for employee Monthly Income\n",
        "plt.subplot(1,2,2)\n",
        "plt.hist(np.log1p(emp_viz_df['MonthlyIncome']), bins=15, color='red')\n",
        "plt.title('Distribution of Employee Monthly Income')\n",
        "plt.xlabel(\"Log of Employee Monthly Income\")\n",
        "\n",
        "fig.tight_layout()"
      ],
      "execution_count": 391,
      "outputs": [
        {
          "output_type": "display_data",
          "data": {
            "image/png": "[encoded data removed]",
            "text/plain": [
              "<Figure size 1152x288 with 2 Axes>"
            ]
          },
          "metadata": {
            "tags": [],
            "needs_background": "light"
          }
        }
      ]
    },
    {
      "cell_type": "markdown",
      "metadata": {
        "id": "PvmJfs4Mko2L"
      },
      "source": [
        "\n",
        "*We can observe above that without log transformation, \"Age\" feature   looks normally distributed more than \"MonthlyIncome\" feature.  \n",
        "\n",
        "Hence, after log transformation, there is hardly any change in \"Age\" distributions but there is significant transformation in \"MonthlyIncome\" feature.  \n",
        "\n",
        "This can also be confirmed by checking the skewness of each feature by applying numpy skew metric and higher the skewness, higher the value.  \n",
        "\n",
        "So, we will use some threshold value of skewness to carry out log transformation on features with high skewness.\n",
        "\n"
      ]
    },
    {
      "cell_type": "markdown",
      "metadata": {
        "id": "_PfBo4EwmKG6"
      },
      "source": [
        "###Feature Engineering\n",
        "\n",
        "Feature engineering is one aspect which provided a huge impact on the outcome rather than the model. Here, we try creating new features with the existing variables we have based on following assumptions.\n",
        "\n",
        "\n"
      ]
    },
    {
      "cell_type": "markdown",
      "metadata": {
        "id": "cPrVjfH6miQ6"
      },
      "source": [
        "Addition of New Features\n",
        "\n",
        "1. Tenure per job: Usually, people who have worked with many companies but for small periods at every organization tend to leave early as they always need a change of Organization to keep them going.\n",
        "    \n",
        "2. Years without Change: For any person, a change either in role or job level or responsibility is needed to keep the work exciting to continue. We create a variable to see how many years it has been for an employee without any sort of change using Promotion, Role and Job Change as a metric to cover different variants of change.\n",
        "\n",
        "3. Compensation Ratio: Compa Ratio is the ratio of the actual pay of an Employee to the midpoint of a salary range. The salary range can be that of his/her department or organization or role. The benchmark numbers can be a organization’s pay or Industry average."
      ]
    },
    {
      "cell_type": "code",
      "metadata": {
        "colab": {
          "base_uri": "https://localhost:8080/"
        },
        "id": "aENbVvEUlIzi",
        "outputId": "7a6fad46-cfa3-461f-aae2-b2c6fd929d28"
      },
      "source": [
        "emp_proc_df = emp_data_org.copy() # Copy cleaned dataset for feature engineering\n",
        "\n",
        "emp_proc_df['TenurePerJob'] = 0\n",
        "\n",
        "for i in range(0, len(emp_proc_df)):\n",
        "    if emp_proc_df.loc[i,'NumCompaniesWorked'] > 0:\n",
        "        emp_proc_df.loc[i,'TenurePerJob'] = emp_proc_df.loc[i,'TotalWorkingYears'] / emp_proc_df.loc[i,'NumCompaniesWorked']\n",
        "\n",
        "emp_proc_df['YearWithoutChange1'] = emp_proc_df['YearsInCurrentRole'] - emp_proc_df['YearsSinceLastPromotion']\n",
        "emp_proc_df['YearWithoutChange2'] = emp_proc_df['TotalWorkingYears'] - emp_proc_df['YearsSinceLastPromotion']\n",
        "\n",
        "monthly_income_median = np.median(emp_proc_df['MonthlyIncome'])\n",
        "emp_proc_df['CompRatioOverall'] = emp_proc_df['MonthlyIncome'] / monthly_income_median\n",
        "\n",
        "print('Dataset dimension: {} rows, {} columns'.format(emp_proc_df.shape[0], emp_proc_df.shape[1]))"
      ],
      "execution_count": 392,
      "outputs": [
        {
          "output_type": "stream",
          "text": [
            "Dataset dimension: 1470 rows, 39 columns\n"
          ],
          "name": "stdout"
        }
      ]
    },
    {
      "cell_type": "markdown",
      "metadata": {
        "id": "MvqG-ky8oFFR"
      },
      "source": [
        "Removing unncecessary features"
      ]
    },
    {
      "cell_type": "code",
      "metadata": {
        "colab": {
          "base_uri": "https://localhost:8080/"
        },
        "id": "Eig15yb9oOpq",
        "outputId": "4c36132b-3b63-46b6-849a-7032b3b235f8"
      },
      "source": [
        "feat_to_remove = ['EmployeeNumber', 'EmployeeCount', 'Over18', 'StandardHours']\n",
        "emp_proc_df.drop( feat_to_remove , axis = 1, inplace = True )\n",
        "print('Dataset dimension: {} rows, {} columns'.format(emp_proc_df.shape[0], emp_proc_df.shape[1]))"
      ],
      "execution_count": 393,
      "outputs": [
        {
          "output_type": "stream",
          "text": [
            "Dataset dimension: 1470 rows, 35 columns\n"
          ],
          "name": "stdout"
        }
      ]
    },
    {
      "cell_type": "code",
      "metadata": {
        "id": "2KGU9cx_cOiF"
      },
      "source": [
        "# separating features according to their types, as different processing will be employed on these\n",
        "\n",
        "full_col_names = emp_proc_df.columns.tolist()\n",
        "categorical_obj_features = emp_proc_df.select_dtypes(include=[np.object]).columns.tolist()\n",
        "target = ['Attrition']\n",
        "categorical_obj_features = set(categorical_obj_features) - set(target)\n",
        "\n",
        "num_features = emp_proc_df.select_dtypes(include=[np.int64,np.float64]).columns.tolist()\n",
        "num_discrete_features = [col for col in num_features if len(emp_proc_df[col].unique())<=5]\n",
        "\n",
        "num_continuous_features = set(num_features)-set(num_discrete_features)\n"
      ],
      "execution_count": 394,
      "outputs": []
    },
    {
      "cell_type": "code",
      "metadata": {
        "id": "tVKLORhGonpS"
      },
      "source": [
        "cat_emp_df = emp_proc_df[categorical_obj_features]\n",
        "num_emp_discrete_df = emp_proc_df[num_discrete_features]\n",
        "num_emp_continuous_df = emp_proc_df[num_continuous_features]\n",
        "target_df = emp_proc_df[target]"
      ],
      "execution_count": 395,
      "outputs": []
    },
    {
      "cell_type": "markdown",
      "metadata": {
        "id": "HDTBAtpeozjD"
      },
      "source": [
        "**Transforming Numerical Features**\n",
        "\n",
        "In order to fix the skewness, let’s take the log for all numerical features with an absolute skew greater than 80% (Note: log+1, to avoid division by zero issues"
      ]
    },
    {
      "cell_type": "code",
      "metadata": {
        "colab": {
          "base_uri": "https://localhost:8080/",
          "height": 337
        },
        "id": "PBZBMORwozBa",
        "outputId": "b6ed07fe-af78-4323-a024-459825ca6651"
      },
      "source": [
        "for col in num_continuous_features:\n",
        "    if num_emp_continuous_df[col].skew() > 0.80:\n",
        "        num_emp_continuous_df[col] = np.log1p(num_emp_continuous_df[col])\n",
        "\n",
        "num_emp_continuous_df.head()"
      ],
      "execution_count": 396,
      "outputs": [
        {
          "output_type": "stream",
          "text": [
            "/usr/local/lib/python3.7/dist-packages/ipykernel_launcher.py:3: SettingWithCopyWarning: \n",
            "A value is trying to be set on a copy of a slice from a DataFrame.\n",
            "Try using .loc[row_indexer,col_indexer] = value instead\n",
            "\n",
            "See the caveats in the documentation: https://pandas.pydata.org/pandas-docs/stable/user_guide/indexing.html#returning-a-view-versus-a-copy\n",
            "  This is separate from the ipykernel package so we can avoid doing imports until\n"
          ],
          "name": "stderr"
        },
        {
          "output_type": "execute_result",
          "data": {
            "text/html": [
              "<div>\n",
              "<style scoped>\n",
              "    .dataframe tbody tr th:only-of-type {\n",
              "        vertical-align: middle;\n",
              "    }\n",
              "\n",
              "    .dataframe tbody tr th {\n",
              "        vertical-align: top;\n",
              "    }\n",
              "\n",
              "    .dataframe thead th {\n",
              "        text-align: right;\n",
              "    }\n",
              "</style>\n",
              "<table border=\"1\" class=\"dataframe\">\n",
              "  <thead>\n",
              "    <tr style=\"text-align: right;\">\n",
              "      <th></th>\n",
              "      <th>NumCompaniesWorked</th>\n",
              "      <th>MonthlyRate</th>\n",
              "      <th>TrainingTimesLastYear</th>\n",
              "      <th>DistanceFromHome</th>\n",
              "      <th>MonthlyIncome</th>\n",
              "      <th>Age</th>\n",
              "      <th>CompRatioOverall</th>\n",
              "      <th>YearsAtCompany</th>\n",
              "      <th>YearsSinceLastPromotion</th>\n",
              "      <th>TenurePerJob</th>\n",
              "      <th>YearWithoutChange2</th>\n",
              "      <th>YearsInCurrentRole</th>\n",
              "      <th>PercentSalaryHike</th>\n",
              "      <th>DailyRate</th>\n",
              "      <th>YearWithoutChange1</th>\n",
              "      <th>YearsWithCurrManager</th>\n",
              "      <th>HourlyRate</th>\n",
              "      <th>TotalWorkingYears</th>\n",
              "    </tr>\n",
              "  </thead>\n",
              "  <tbody>\n",
              "    <tr>\n",
              "      <th>0</th>\n",
              "      <td>2.197225</td>\n",
              "      <td>19479</td>\n",
              "      <td>0</td>\n",
              "      <td>0.693147</td>\n",
              "      <td>8.698514</td>\n",
              "      <td>41</td>\n",
              "      <td>0.796758</td>\n",
              "      <td>1.945910</td>\n",
              "      <td>0.000000</td>\n",
              "      <td>0.693147</td>\n",
              "      <td>2.197225</td>\n",
              "      <td>1.609438</td>\n",
              "      <td>2.484907</td>\n",
              "      <td>1102</td>\n",
              "      <td>4</td>\n",
              "      <td>1.791759</td>\n",
              "      <td>94</td>\n",
              "      <td>2.197225</td>\n",
              "    </tr>\n",
              "    <tr>\n",
              "      <th>1</th>\n",
              "      <td>0.693147</td>\n",
              "      <td>24907</td>\n",
              "      <td>3</td>\n",
              "      <td>2.197225</td>\n",
              "      <td>8.543056</td>\n",
              "      <td>49</td>\n",
              "      <td>0.714368</td>\n",
              "      <td>2.397895</td>\n",
              "      <td>0.693147</td>\n",
              "      <td>2.397895</td>\n",
              "      <td>2.302585</td>\n",
              "      <td>2.079442</td>\n",
              "      <td>3.178054</td>\n",
              "      <td>279</td>\n",
              "      <td>6</td>\n",
              "      <td>2.079442</td>\n",
              "      <td>61</td>\n",
              "      <td>2.397895</td>\n",
              "    </tr>\n",
              "    <tr>\n",
              "      <th>2</th>\n",
              "      <td>1.945910</td>\n",
              "      <td>2396</td>\n",
              "      <td>3</td>\n",
              "      <td>1.098612</td>\n",
              "      <td>7.645398</td>\n",
              "      <td>37</td>\n",
              "      <td>0.354090</td>\n",
              "      <td>0.000000</td>\n",
              "      <td>0.000000</td>\n",
              "      <td>0.773190</td>\n",
              "      <td>2.079442</td>\n",
              "      <td>0.000000</td>\n",
              "      <td>2.772589</td>\n",
              "      <td>1373</td>\n",
              "      <td>0</td>\n",
              "      <td>0.000000</td>\n",
              "      <td>92</td>\n",
              "      <td>2.079442</td>\n",
              "    </tr>\n",
              "    <tr>\n",
              "      <th>3</th>\n",
              "      <td>0.693147</td>\n",
              "      <td>23159</td>\n",
              "      <td>3</td>\n",
              "      <td>1.386294</td>\n",
              "      <td>7.975908</td>\n",
              "      <td>33</td>\n",
              "      <td>0.464602</td>\n",
              "      <td>2.197225</td>\n",
              "      <td>1.386294</td>\n",
              "      <td>2.197225</td>\n",
              "      <td>1.791759</td>\n",
              "      <td>2.079442</td>\n",
              "      <td>2.484907</td>\n",
              "      <td>1392</td>\n",
              "      <td>4</td>\n",
              "      <td>0.000000</td>\n",
              "      <td>56</td>\n",
              "      <td>2.197225</td>\n",
              "    </tr>\n",
              "    <tr>\n",
              "      <th>4</th>\n",
              "      <td>2.302585</td>\n",
              "      <td>16632</td>\n",
              "      <td>3</td>\n",
              "      <td>1.098612</td>\n",
              "      <td>8.151622</td>\n",
              "      <td>27</td>\n",
              "      <td>0.533578</td>\n",
              "      <td>1.098612</td>\n",
              "      <td>1.098612</td>\n",
              "      <td>0.510826</td>\n",
              "      <td>1.609438</td>\n",
              "      <td>1.098612</td>\n",
              "      <td>2.564949</td>\n",
              "      <td>591</td>\n",
              "      <td>0</td>\n",
              "      <td>1.098612</td>\n",
              "      <td>40</td>\n",
              "      <td>1.945910</td>\n",
              "    </tr>\n",
              "  </tbody>\n",
              "</table>\n",
              "</div>"
            ],
            "text/plain": [
              "   NumCompaniesWorked  MonthlyRate  ...  HourlyRate  TotalWorkingYears\n",
              "0            2.197225        19479  ...          94           2.197225\n",
              "1            0.693147        24907  ...          61           2.397895\n",
              "2            1.945910         2396  ...          92           2.079442\n",
              "3            0.693147        23159  ...          56           2.197225\n",
              "4            2.302585        16632  ...          40           1.945910\n",
              "\n",
              "[5 rows x 18 columns]"
            ]
          },
          "metadata": {
            "tags": []
          },
          "execution_count": 396
        }
      ]
    },
    {
      "cell_type": "markdown",
      "metadata": {
        "id": "_AOF_Nkgpl0R"
      },
      "source": [
        "**Transforming Categorical features into one hot enocded vectors.**\n"
      ]
    },
    {
      "cell_type": "code",
      "metadata": {
        "colab": {
          "base_uri": "https://localhost:8080/",
          "height": 243
        },
        "id": "_jPpZEBQpufB",
        "outputId": "37d3c97b-2098-4f17-ad88-f2575ecc0bc7"
      },
      "source": [
        "# Let's create dummy variables for each categorical attribute for training our calssification model\n",
        "for col in categorical_obj_features:\n",
        "    col_dummies = pd.get_dummies(cat_emp_df[col], prefix=col)\n",
        "    cat_emp_df = pd.concat([cat_emp_df, col_dummies], axis=1)\n",
        "\n",
        "# Use the pandas apply method to numerically encode our attrition target variable\n",
        "attrition_target = emp_proc_df['Attrition'].map({'Yes':1, 'No':0})\n",
        "\n",
        "# Drop categorical feature for which dummy variables have been created\n",
        "cat_emp_df.drop(categorical_obj_features, axis=1, inplace=True)\n",
        "\n",
        "cat_emp_df.head()"
      ],
      "execution_count": 397,
      "outputs": [
        {
          "output_type": "execute_result",
          "data": {
            "text/html": [
              "<div>\n",
              "<style scoped>\n",
              "    .dataframe tbody tr th:only-of-type {\n",
              "        vertical-align: middle;\n",
              "    }\n",
              "\n",
              "    .dataframe tbody tr th {\n",
              "        vertical-align: top;\n",
              "    }\n",
              "\n",
              "    .dataframe thead th {\n",
              "        text-align: right;\n",
              "    }\n",
              "</style>\n",
              "<table border=\"1\" class=\"dataframe\">\n",
              "  <thead>\n",
              "    <tr style=\"text-align: right;\">\n",
              "      <th></th>\n",
              "      <th>JobRole_Healthcare Representative</th>\n",
              "      <th>JobRole_Human Resources</th>\n",
              "      <th>JobRole_Laboratory Technician</th>\n",
              "      <th>JobRole_Manager</th>\n",
              "      <th>JobRole_Manufacturing Director</th>\n",
              "      <th>JobRole_Research Director</th>\n",
              "      <th>JobRole_Research Scientist</th>\n",
              "      <th>JobRole_Sales Executive</th>\n",
              "      <th>JobRole_Sales Representative</th>\n",
              "      <th>EducationField_Human Resources</th>\n",
              "      <th>EducationField_Life Sciences</th>\n",
              "      <th>EducationField_Marketing</th>\n",
              "      <th>EducationField_Medical</th>\n",
              "      <th>EducationField_Other</th>\n",
              "      <th>EducationField_Technical Degree</th>\n",
              "      <th>Gender_Female</th>\n",
              "      <th>Gender_Male</th>\n",
              "      <th>OverTime_No</th>\n",
              "      <th>OverTime_Yes</th>\n",
              "      <th>MaritalStatus_Divorced</th>\n",
              "      <th>MaritalStatus_Married</th>\n",
              "      <th>MaritalStatus_Single</th>\n",
              "      <th>Department_Human Resources</th>\n",
              "      <th>Department_Research &amp; Development</th>\n",
              "      <th>Department_Sales</th>\n",
              "      <th>BusinessTravel_Non-Travel</th>\n",
              "      <th>BusinessTravel_Travel_Frequently</th>\n",
              "      <th>BusinessTravel_Travel_Rarely</th>\n",
              "    </tr>\n",
              "  </thead>\n",
              "  <tbody>\n",
              "    <tr>\n",
              "      <th>0</th>\n",
              "      <td>0</td>\n",
              "      <td>0</td>\n",
              "      <td>0</td>\n",
              "      <td>0</td>\n",
              "      <td>0</td>\n",
              "      <td>0</td>\n",
              "      <td>0</td>\n",
              "      <td>1</td>\n",
              "      <td>0</td>\n",
              "      <td>0</td>\n",
              "      <td>1</td>\n",
              "      <td>0</td>\n",
              "      <td>0</td>\n",
              "      <td>0</td>\n",
              "      <td>0</td>\n",
              "      <td>1</td>\n",
              "      <td>0</td>\n",
              "      <td>0</td>\n",
              "      <td>1</td>\n",
              "      <td>0</td>\n",
              "      <td>0</td>\n",
              "      <td>1</td>\n",
              "      <td>0</td>\n",
              "      <td>0</td>\n",
              "      <td>1</td>\n",
              "      <td>0</td>\n",
              "      <td>0</td>\n",
              "      <td>1</td>\n",
              "    </tr>\n",
              "    <tr>\n",
              "      <th>1</th>\n",
              "      <td>0</td>\n",
              "      <td>0</td>\n",
              "      <td>0</td>\n",
              "      <td>0</td>\n",
              "      <td>0</td>\n",
              "      <td>0</td>\n",
              "      <td>1</td>\n",
              "      <td>0</td>\n",
              "      <td>0</td>\n",
              "      <td>0</td>\n",
              "      <td>1</td>\n",
              "      <td>0</td>\n",
              "      <td>0</td>\n",
              "      <td>0</td>\n",
              "      <td>0</td>\n",
              "      <td>0</td>\n",
              "      <td>1</td>\n",
              "      <td>1</td>\n",
              "      <td>0</td>\n",
              "      <td>0</td>\n",
              "      <td>1</td>\n",
              "      <td>0</td>\n",
              "      <td>0</td>\n",
              "      <td>1</td>\n",
              "      <td>0</td>\n",
              "      <td>0</td>\n",
              "      <td>1</td>\n",
              "      <td>0</td>\n",
              "    </tr>\n",
              "    <tr>\n",
              "      <th>2</th>\n",
              "      <td>0</td>\n",
              "      <td>0</td>\n",
              "      <td>1</td>\n",
              "      <td>0</td>\n",
              "      <td>0</td>\n",
              "      <td>0</td>\n",
              "      <td>0</td>\n",
              "      <td>0</td>\n",
              "      <td>0</td>\n",
              "      <td>0</td>\n",
              "      <td>0</td>\n",
              "      <td>0</td>\n",
              "      <td>0</td>\n",
              "      <td>1</td>\n",
              "      <td>0</td>\n",
              "      <td>0</td>\n",
              "      <td>1</td>\n",
              "      <td>0</td>\n",
              "      <td>1</td>\n",
              "      <td>0</td>\n",
              "      <td>0</td>\n",
              "      <td>1</td>\n",
              "      <td>0</td>\n",
              "      <td>1</td>\n",
              "      <td>0</td>\n",
              "      <td>0</td>\n",
              "      <td>0</td>\n",
              "      <td>1</td>\n",
              "    </tr>\n",
              "    <tr>\n",
              "      <th>3</th>\n",
              "      <td>0</td>\n",
              "      <td>0</td>\n",
              "      <td>0</td>\n",
              "      <td>0</td>\n",
              "      <td>0</td>\n",
              "      <td>0</td>\n",
              "      <td>1</td>\n",
              "      <td>0</td>\n",
              "      <td>0</td>\n",
              "      <td>0</td>\n",
              "      <td>1</td>\n",
              "      <td>0</td>\n",
              "      <td>0</td>\n",
              "      <td>0</td>\n",
              "      <td>0</td>\n",
              "      <td>1</td>\n",
              "      <td>0</td>\n",
              "      <td>0</td>\n",
              "      <td>1</td>\n",
              "      <td>0</td>\n",
              "      <td>1</td>\n",
              "      <td>0</td>\n",
              "      <td>0</td>\n",
              "      <td>1</td>\n",
              "      <td>0</td>\n",
              "      <td>0</td>\n",
              "      <td>1</td>\n",
              "      <td>0</td>\n",
              "    </tr>\n",
              "    <tr>\n",
              "      <th>4</th>\n",
              "      <td>0</td>\n",
              "      <td>0</td>\n",
              "      <td>1</td>\n",
              "      <td>0</td>\n",
              "      <td>0</td>\n",
              "      <td>0</td>\n",
              "      <td>0</td>\n",
              "      <td>0</td>\n",
              "      <td>0</td>\n",
              "      <td>0</td>\n",
              "      <td>0</td>\n",
              "      <td>0</td>\n",
              "      <td>1</td>\n",
              "      <td>0</td>\n",
              "      <td>0</td>\n",
              "      <td>0</td>\n",
              "      <td>1</td>\n",
              "      <td>1</td>\n",
              "      <td>0</td>\n",
              "      <td>0</td>\n",
              "      <td>1</td>\n",
              "      <td>0</td>\n",
              "      <td>0</td>\n",
              "      <td>1</td>\n",
              "      <td>0</td>\n",
              "      <td>0</td>\n",
              "      <td>0</td>\n",
              "      <td>1</td>\n",
              "    </tr>\n",
              "  </tbody>\n",
              "</table>\n",
              "</div>"
            ],
            "text/plain": [
              "   JobRole_Healthcare Representative  ...  BusinessTravel_Travel_Rarely\n",
              "0                                  0  ...                             1\n",
              "1                                  0  ...                             0\n",
              "2                                  0  ...                             1\n",
              "3                                  0  ...                             0\n",
              "4                                  0  ...                             1\n",
              "\n",
              "[5 rows x 28 columns]"
            ]
          },
          "metadata": {
            "tags": []
          },
          "execution_count": 397
        }
      ]
    },
    {
      "cell_type": "code",
      "metadata": {
        "id": "dcMFMh1Vs2kx",
        "colab": {
          "base_uri": "https://localhost:8080/",
          "height": 262
        },
        "outputId": "3fd3ce42-a6d2-4e34-b97d-a964fcc3ae4a"
      },
      "source": [
        "# Concat the three dataframes together columnwise\n",
        "final_emp_df = pd.concat([num_emp_continuous_df, num_emp_discrete_df, cat_emp_df], axis=1)\n",
        "\n",
        "print('Dataset dimension after treating categorical features with dummy variables: {} rows, {} columns'.format(final_emp_df.shape[0], final_emp_df.shape[1]))\n",
        "final_emp_df.head()"
      ],
      "execution_count": 398,
      "outputs": [
        {
          "output_type": "stream",
          "text": [
            "Dataset dimension after treating categorical features with dummy variables: 1470 rows, 55 columns\n"
          ],
          "name": "stdout"
        },
        {
          "output_type": "execute_result",
          "data": {
            "text/html": [
              "<div>\n",
              "<style scoped>\n",
              "    .dataframe tbody tr th:only-of-type {\n",
              "        vertical-align: middle;\n",
              "    }\n",
              "\n",
              "    .dataframe tbody tr th {\n",
              "        vertical-align: top;\n",
              "    }\n",
              "\n",
              "    .dataframe thead th {\n",
              "        text-align: right;\n",
              "    }\n",
              "</style>\n",
              "<table border=\"1\" class=\"dataframe\">\n",
              "  <thead>\n",
              "    <tr style=\"text-align: right;\">\n",
              "      <th></th>\n",
              "      <th>NumCompaniesWorked</th>\n",
              "      <th>MonthlyRate</th>\n",
              "      <th>TrainingTimesLastYear</th>\n",
              "      <th>DistanceFromHome</th>\n",
              "      <th>MonthlyIncome</th>\n",
              "      <th>Age</th>\n",
              "      <th>CompRatioOverall</th>\n",
              "      <th>YearsAtCompany</th>\n",
              "      <th>YearsSinceLastPromotion</th>\n",
              "      <th>TenurePerJob</th>\n",
              "      <th>YearWithoutChange2</th>\n",
              "      <th>YearsInCurrentRole</th>\n",
              "      <th>PercentSalaryHike</th>\n",
              "      <th>DailyRate</th>\n",
              "      <th>YearWithoutChange1</th>\n",
              "      <th>YearsWithCurrManager</th>\n",
              "      <th>HourlyRate</th>\n",
              "      <th>TotalWorkingYears</th>\n",
              "      <th>Education</th>\n",
              "      <th>EnvironmentSatisfaction</th>\n",
              "      <th>JobInvolvement</th>\n",
              "      <th>JobLevel</th>\n",
              "      <th>JobSatisfaction</th>\n",
              "      <th>PerformanceRating</th>\n",
              "      <th>RelationshipSatisfaction</th>\n",
              "      <th>StockOptionLevel</th>\n",
              "      <th>WorkLifeBalance</th>\n",
              "      <th>JobRole_Healthcare Representative</th>\n",
              "      <th>JobRole_Human Resources</th>\n",
              "      <th>JobRole_Laboratory Technician</th>\n",
              "      <th>JobRole_Manager</th>\n",
              "      <th>JobRole_Manufacturing Director</th>\n",
              "      <th>JobRole_Research Director</th>\n",
              "      <th>JobRole_Research Scientist</th>\n",
              "      <th>JobRole_Sales Executive</th>\n",
              "      <th>JobRole_Sales Representative</th>\n",
              "      <th>EducationField_Human Resources</th>\n",
              "      <th>EducationField_Life Sciences</th>\n",
              "      <th>EducationField_Marketing</th>\n",
              "      <th>EducationField_Medical</th>\n",
              "      <th>EducationField_Other</th>\n",
              "      <th>EducationField_Technical Degree</th>\n",
              "      <th>Gender_Female</th>\n",
              "      <th>Gender_Male</th>\n",
              "      <th>OverTime_No</th>\n",
              "      <th>OverTime_Yes</th>\n",
              "      <th>MaritalStatus_Divorced</th>\n",
              "      <th>MaritalStatus_Married</th>\n",
              "      <th>MaritalStatus_Single</th>\n",
              "      <th>Department_Human Resources</th>\n",
              "      <th>Department_Research &amp; Development</th>\n",
              "      <th>Department_Sales</th>\n",
              "      <th>BusinessTravel_Non-Travel</th>\n",
              "      <th>BusinessTravel_Travel_Frequently</th>\n",
              "      <th>BusinessTravel_Travel_Rarely</th>\n",
              "    </tr>\n",
              "  </thead>\n",
              "  <tbody>\n",
              "    <tr>\n",
              "      <th>0</th>\n",
              "      <td>2.197225</td>\n",
              "      <td>19479</td>\n",
              "      <td>0</td>\n",
              "      <td>0.693147</td>\n",
              "      <td>8.698514</td>\n",
              "      <td>41</td>\n",
              "      <td>0.796758</td>\n",
              "      <td>1.945910</td>\n",
              "      <td>0.000000</td>\n",
              "      <td>0.693147</td>\n",
              "      <td>2.197225</td>\n",
              "      <td>1.609438</td>\n",
              "      <td>2.484907</td>\n",
              "      <td>1102</td>\n",
              "      <td>4</td>\n",
              "      <td>1.791759</td>\n",
              "      <td>94</td>\n",
              "      <td>2.197225</td>\n",
              "      <td>2</td>\n",
              "      <td>2</td>\n",
              "      <td>3</td>\n",
              "      <td>2</td>\n",
              "      <td>4</td>\n",
              "      <td>3</td>\n",
              "      <td>1</td>\n",
              "      <td>0</td>\n",
              "      <td>1</td>\n",
              "      <td>0</td>\n",
              "      <td>0</td>\n",
              "      <td>0</td>\n",
              "      <td>0</td>\n",
              "      <td>0</td>\n",
              "      <td>0</td>\n",
              "      <td>0</td>\n",
              "      <td>1</td>\n",
              "      <td>0</td>\n",
              "      <td>0</td>\n",
              "      <td>1</td>\n",
              "      <td>0</td>\n",
              "      <td>0</td>\n",
              "      <td>0</td>\n",
              "      <td>0</td>\n",
              "      <td>1</td>\n",
              "      <td>0</td>\n",
              "      <td>0</td>\n",
              "      <td>1</td>\n",
              "      <td>0</td>\n",
              "      <td>0</td>\n",
              "      <td>1</td>\n",
              "      <td>0</td>\n",
              "      <td>0</td>\n",
              "      <td>1</td>\n",
              "      <td>0</td>\n",
              "      <td>0</td>\n",
              "      <td>1</td>\n",
              "    </tr>\n",
              "    <tr>\n",
              "      <th>1</th>\n",
              "      <td>0.693147</td>\n",
              "      <td>24907</td>\n",
              "      <td>3</td>\n",
              "      <td>2.197225</td>\n",
              "      <td>8.543056</td>\n",
              "      <td>49</td>\n",
              "      <td>0.714368</td>\n",
              "      <td>2.397895</td>\n",
              "      <td>0.693147</td>\n",
              "      <td>2.397895</td>\n",
              "      <td>2.302585</td>\n",
              "      <td>2.079442</td>\n",
              "      <td>3.178054</td>\n",
              "      <td>279</td>\n",
              "      <td>6</td>\n",
              "      <td>2.079442</td>\n",
              "      <td>61</td>\n",
              "      <td>2.397895</td>\n",
              "      <td>1</td>\n",
              "      <td>3</td>\n",
              "      <td>2</td>\n",
              "      <td>2</td>\n",
              "      <td>2</td>\n",
              "      <td>4</td>\n",
              "      <td>4</td>\n",
              "      <td>1</td>\n",
              "      <td>3</td>\n",
              "      <td>0</td>\n",
              "      <td>0</td>\n",
              "      <td>0</td>\n",
              "      <td>0</td>\n",
              "      <td>0</td>\n",
              "      <td>0</td>\n",
              "      <td>1</td>\n",
              "      <td>0</td>\n",
              "      <td>0</td>\n",
              "      <td>0</td>\n",
              "      <td>1</td>\n",
              "      <td>0</td>\n",
              "      <td>0</td>\n",
              "      <td>0</td>\n",
              "      <td>0</td>\n",
              "      <td>0</td>\n",
              "      <td>1</td>\n",
              "      <td>1</td>\n",
              "      <td>0</td>\n",
              "      <td>0</td>\n",
              "      <td>1</td>\n",
              "      <td>0</td>\n",
              "      <td>0</td>\n",
              "      <td>1</td>\n",
              "      <td>0</td>\n",
              "      <td>0</td>\n",
              "      <td>1</td>\n",
              "      <td>0</td>\n",
              "    </tr>\n",
              "    <tr>\n",
              "      <th>2</th>\n",
              "      <td>1.945910</td>\n",
              "      <td>2396</td>\n",
              "      <td>3</td>\n",
              "      <td>1.098612</td>\n",
              "      <td>7.645398</td>\n",
              "      <td>37</td>\n",
              "      <td>0.354090</td>\n",
              "      <td>0.000000</td>\n",
              "      <td>0.000000</td>\n",
              "      <td>0.773190</td>\n",
              "      <td>2.079442</td>\n",
              "      <td>0.000000</td>\n",
              "      <td>2.772589</td>\n",
              "      <td>1373</td>\n",
              "      <td>0</td>\n",
              "      <td>0.000000</td>\n",
              "      <td>92</td>\n",
              "      <td>2.079442</td>\n",
              "      <td>2</td>\n",
              "      <td>4</td>\n",
              "      <td>2</td>\n",
              "      <td>1</td>\n",
              "      <td>3</td>\n",
              "      <td>3</td>\n",
              "      <td>2</td>\n",
              "      <td>0</td>\n",
              "      <td>3</td>\n",
              "      <td>0</td>\n",
              "      <td>0</td>\n",
              "      <td>1</td>\n",
              "      <td>0</td>\n",
              "      <td>0</td>\n",
              "      <td>0</td>\n",
              "      <td>0</td>\n",
              "      <td>0</td>\n",
              "      <td>0</td>\n",
              "      <td>0</td>\n",
              "      <td>0</td>\n",
              "      <td>0</td>\n",
              "      <td>0</td>\n",
              "      <td>1</td>\n",
              "      <td>0</td>\n",
              "      <td>0</td>\n",
              "      <td>1</td>\n",
              "      <td>0</td>\n",
              "      <td>1</td>\n",
              "      <td>0</td>\n",
              "      <td>0</td>\n",
              "      <td>1</td>\n",
              "      <td>0</td>\n",
              "      <td>1</td>\n",
              "      <td>0</td>\n",
              "      <td>0</td>\n",
              "      <td>0</td>\n",
              "      <td>1</td>\n",
              "    </tr>\n",
              "    <tr>\n",
              "      <th>3</th>\n",
              "      <td>0.693147</td>\n",
              "      <td>23159</td>\n",
              "      <td>3</td>\n",
              "      <td>1.386294</td>\n",
              "      <td>7.975908</td>\n",
              "      <td>33</td>\n",
              "      <td>0.464602</td>\n",
              "      <td>2.197225</td>\n",
              "      <td>1.386294</td>\n",
              "      <td>2.197225</td>\n",
              "      <td>1.791759</td>\n",
              "      <td>2.079442</td>\n",
              "      <td>2.484907</td>\n",
              "      <td>1392</td>\n",
              "      <td>4</td>\n",
              "      <td>0.000000</td>\n",
              "      <td>56</td>\n",
              "      <td>2.197225</td>\n",
              "      <td>4</td>\n",
              "      <td>4</td>\n",
              "      <td>3</td>\n",
              "      <td>1</td>\n",
              "      <td>3</td>\n",
              "      <td>3</td>\n",
              "      <td>3</td>\n",
              "      <td>0</td>\n",
              "      <td>3</td>\n",
              "      <td>0</td>\n",
              "      <td>0</td>\n",
              "      <td>0</td>\n",
              "      <td>0</td>\n",
              "      <td>0</td>\n",
              "      <td>0</td>\n",
              "      <td>1</td>\n",
              "      <td>0</td>\n",
              "      <td>0</td>\n",
              "      <td>0</td>\n",
              "      <td>1</td>\n",
              "      <td>0</td>\n",
              "      <td>0</td>\n",
              "      <td>0</td>\n",
              "      <td>0</td>\n",
              "      <td>1</td>\n",
              "      <td>0</td>\n",
              "      <td>0</td>\n",
              "      <td>1</td>\n",
              "      <td>0</td>\n",
              "      <td>1</td>\n",
              "      <td>0</td>\n",
              "      <td>0</td>\n",
              "      <td>1</td>\n",
              "      <td>0</td>\n",
              "      <td>0</td>\n",
              "      <td>1</td>\n",
              "      <td>0</td>\n",
              "    </tr>\n",
              "    <tr>\n",
              "      <th>4</th>\n",
              "      <td>2.302585</td>\n",
              "      <td>16632</td>\n",
              "      <td>3</td>\n",
              "      <td>1.098612</td>\n",
              "      <td>8.151622</td>\n",
              "      <td>27</td>\n",
              "      <td>0.533578</td>\n",
              "      <td>1.098612</td>\n",
              "      <td>1.098612</td>\n",
              "      <td>0.510826</td>\n",
              "      <td>1.609438</td>\n",
              "      <td>1.098612</td>\n",
              "      <td>2.564949</td>\n",
              "      <td>591</td>\n",
              "      <td>0</td>\n",
              "      <td>1.098612</td>\n",
              "      <td>40</td>\n",
              "      <td>1.945910</td>\n",
              "      <td>1</td>\n",
              "      <td>1</td>\n",
              "      <td>3</td>\n",
              "      <td>1</td>\n",
              "      <td>2</td>\n",
              "      <td>3</td>\n",
              "      <td>4</td>\n",
              "      <td>1</td>\n",
              "      <td>3</td>\n",
              "      <td>0</td>\n",
              "      <td>0</td>\n",
              "      <td>1</td>\n",
              "      <td>0</td>\n",
              "      <td>0</td>\n",
              "      <td>0</td>\n",
              "      <td>0</td>\n",
              "      <td>0</td>\n",
              "      <td>0</td>\n",
              "      <td>0</td>\n",
              "      <td>0</td>\n",
              "      <td>0</td>\n",
              "      <td>1</td>\n",
              "      <td>0</td>\n",
              "      <td>0</td>\n",
              "      <td>0</td>\n",
              "      <td>1</td>\n",
              "      <td>1</td>\n",
              "      <td>0</td>\n",
              "      <td>0</td>\n",
              "      <td>1</td>\n",
              "      <td>0</td>\n",
              "      <td>0</td>\n",
              "      <td>1</td>\n",
              "      <td>0</td>\n",
              "      <td>0</td>\n",
              "      <td>0</td>\n",
              "      <td>1</td>\n",
              "    </tr>\n",
              "  </tbody>\n",
              "</table>\n",
              "</div>"
            ],
            "text/plain": [
              "   NumCompaniesWorked  ...  BusinessTravel_Travel_Rarely\n",
              "0            2.197225  ...                             1\n",
              "1            0.693147  ...                             0\n",
              "2            1.945910  ...                             1\n",
              "3            0.693147  ...                             0\n",
              "4            2.302585  ...                             1\n",
              "\n",
              "[5 rows x 55 columns]"
            ]
          },
          "metadata": {
            "tags": []
          },
          "execution_count": 398
        }
      ]
    },
    {
      "cell_type": "markdown",
      "metadata": {
        "id": "060bkIPoJEor"
      },
      "source": [
        "### Model and evaluation metrics"
      ]
    },
    {
      "cell_type": "markdown",
      "metadata": {
        "id": "rEEYu9_IJdIr"
      },
      "source": [
        "This is a binary classification problem we can use following Metrics:\n",
        "1. Accuracy\n",
        "2. True Positive Rate(recall or sensitivity)\n",
        "3. Precision \n",
        "4. True Negative Rate (specificity)\n",
        "5. F1 score\n",
        "6. ROC curve\n",
        "7. Confusion matrix\n",
        "\n",
        "Following models will be compared based on above metrics:\n",
        "1. Logistic Regression\n",
        "2. Support Vector Classifier\n",
        "3. Decision Tree Classifier\n",
        "4. Random Forest Classifier \t\n",
        "5. Extra Trees Classifier \t\n",
        "6. \tGradient Boosting Classifier \t\n",
        "7. \tAdaptive Boost Classifier \t\n",
        "8. \tGaussian Naive Bayes classifier"
      ]
    },
    {
      "cell_type": "code",
      "metadata": {
        "colab": {
          "base_uri": "https://localhost:8080/"
        },
        "id": "X9NYur3NJDb2",
        "outputId": "e1c81e35-2c69-4beb-c77e-1fc0e3524680"
      },
      "source": [
        "# since data is hihgly imbalanced so using stratified shuffle split to ensure proportionate samples from each class\n",
        "from sklearn.model_selection import StratifiedShuffleSplit\n",
        "from sklearn.model_selection import train_test_split\n",
        "\n",
        "#train and test set split\n",
        "split = StratifiedShuffleSplit(n_splits=1, test_size=0.20, random_state=42)\n",
        "for train_index, test_index in split.split(final_emp_df, target_df[\"Attrition\"]):\n",
        "  X_train = final_emp_df.loc[train_index]\n",
        "  X_test = final_emp_df.loc[test_index]\n",
        "  y_train = attrition_target.loc[train_index]\n",
        "  y_test = attrition_target.loc[test_index]\n",
        "\n",
        "\n",
        "#train and validation split\n",
        "X_train, X_val, y_train, y_val = train_test_split(X_train, y_train, test_size = 0.1)\n",
        "\n",
        "\n",
        "print(len(X_train), \"train set,\", len(X_test), \"test set\", len(X_val), \"validation set\")"
      ],
      "execution_count": 399,
      "outputs": [
        {
          "output_type": "stream",
          "text": [
            "1058 train set, 294 test set 118 validation set\n"
          ],
          "name": "stdout"
        }
      ]
    },
    {
      "cell_type": "code",
      "metadata": {
        "colab": {
          "base_uri": "https://localhost:8080/",
          "height": 243
        },
        "id": "y0oudaT2ANSz",
        "outputId": "303eac45-77d0-4ad7-eebf-c3aa9b1bcceb"
      },
      "source": [
        "X_test.head()"
      ],
      "execution_count": 400,
      "outputs": [
        {
          "output_type": "execute_result",
          "data": {
            "text/html": [
              "<div>\n",
              "<style scoped>\n",
              "    .dataframe tbody tr th:only-of-type {\n",
              "        vertical-align: middle;\n",
              "    }\n",
              "\n",
              "    .dataframe tbody tr th {\n",
              "        vertical-align: top;\n",
              "    }\n",
              "\n",
              "    .dataframe thead th {\n",
              "        text-align: right;\n",
              "    }\n",
              "</style>\n",
              "<table border=\"1\" class=\"dataframe\">\n",
              "  <thead>\n",
              "    <tr style=\"text-align: right;\">\n",
              "      <th></th>\n",
              "      <th>NumCompaniesWorked</th>\n",
              "      <th>MonthlyRate</th>\n",
              "      <th>TrainingTimesLastYear</th>\n",
              "      <th>DistanceFromHome</th>\n",
              "      <th>MonthlyIncome</th>\n",
              "      <th>Age</th>\n",
              "      <th>CompRatioOverall</th>\n",
              "      <th>YearsAtCompany</th>\n",
              "      <th>YearsSinceLastPromotion</th>\n",
              "      <th>TenurePerJob</th>\n",
              "      <th>YearWithoutChange2</th>\n",
              "      <th>YearsInCurrentRole</th>\n",
              "      <th>PercentSalaryHike</th>\n",
              "      <th>DailyRate</th>\n",
              "      <th>YearWithoutChange1</th>\n",
              "      <th>YearsWithCurrManager</th>\n",
              "      <th>HourlyRate</th>\n",
              "      <th>TotalWorkingYears</th>\n",
              "      <th>Education</th>\n",
              "      <th>EnvironmentSatisfaction</th>\n",
              "      <th>JobInvolvement</th>\n",
              "      <th>JobLevel</th>\n",
              "      <th>JobSatisfaction</th>\n",
              "      <th>PerformanceRating</th>\n",
              "      <th>RelationshipSatisfaction</th>\n",
              "      <th>StockOptionLevel</th>\n",
              "      <th>WorkLifeBalance</th>\n",
              "      <th>JobRole_Healthcare Representative</th>\n",
              "      <th>JobRole_Human Resources</th>\n",
              "      <th>JobRole_Laboratory Technician</th>\n",
              "      <th>JobRole_Manager</th>\n",
              "      <th>JobRole_Manufacturing Director</th>\n",
              "      <th>JobRole_Research Director</th>\n",
              "      <th>JobRole_Research Scientist</th>\n",
              "      <th>JobRole_Sales Executive</th>\n",
              "      <th>JobRole_Sales Representative</th>\n",
              "      <th>EducationField_Human Resources</th>\n",
              "      <th>EducationField_Life Sciences</th>\n",
              "      <th>EducationField_Marketing</th>\n",
              "      <th>EducationField_Medical</th>\n",
              "      <th>EducationField_Other</th>\n",
              "      <th>EducationField_Technical Degree</th>\n",
              "      <th>Gender_Female</th>\n",
              "      <th>Gender_Male</th>\n",
              "      <th>OverTime_No</th>\n",
              "      <th>OverTime_Yes</th>\n",
              "      <th>MaritalStatus_Divorced</th>\n",
              "      <th>MaritalStatus_Married</th>\n",
              "      <th>MaritalStatus_Single</th>\n",
              "      <th>Department_Human Resources</th>\n",
              "      <th>Department_Research &amp; Development</th>\n",
              "      <th>Department_Sales</th>\n",
              "      <th>BusinessTravel_Non-Travel</th>\n",
              "      <th>BusinessTravel_Travel_Frequently</th>\n",
              "      <th>BusinessTravel_Travel_Rarely</th>\n",
              "    </tr>\n",
              "  </thead>\n",
              "  <tbody>\n",
              "    <tr>\n",
              "      <th>1061</th>\n",
              "      <td>0.693147</td>\n",
              "      <td>7103</td>\n",
              "      <td>2</td>\n",
              "      <td>2.639057</td>\n",
              "      <td>7.617760</td>\n",
              "      <td>24</td>\n",
              "      <td>0.345924</td>\n",
              "      <td>0.693147</td>\n",
              "      <td>0.000000</td>\n",
              "      <td>0.693147</td>\n",
              "      <td>0.693147</td>\n",
              "      <td>0.000000</td>\n",
              "      <td>2.639057</td>\n",
              "      <td>830</td>\n",
              "      <td>0</td>\n",
              "      <td>0.000000</td>\n",
              "      <td>78</td>\n",
              "      <td>0.693147</td>\n",
              "      <td>2</td>\n",
              "      <td>4</td>\n",
              "      <td>3</td>\n",
              "      <td>1</td>\n",
              "      <td>2</td>\n",
              "      <td>3</td>\n",
              "      <td>3</td>\n",
              "      <td>1</td>\n",
              "      <td>3</td>\n",
              "      <td>0</td>\n",
              "      <td>0</td>\n",
              "      <td>0</td>\n",
              "      <td>0</td>\n",
              "      <td>0</td>\n",
              "      <td>0</td>\n",
              "      <td>0</td>\n",
              "      <td>0</td>\n",
              "      <td>1</td>\n",
              "      <td>0</td>\n",
              "      <td>1</td>\n",
              "      <td>0</td>\n",
              "      <td>0</td>\n",
              "      <td>0</td>\n",
              "      <td>0</td>\n",
              "      <td>1</td>\n",
              "      <td>0</td>\n",
              "      <td>1</td>\n",
              "      <td>0</td>\n",
              "      <td>0</td>\n",
              "      <td>1</td>\n",
              "      <td>0</td>\n",
              "      <td>0</td>\n",
              "      <td>0</td>\n",
              "      <td>1</td>\n",
              "      <td>1</td>\n",
              "      <td>0</td>\n",
              "      <td>0</td>\n",
              "    </tr>\n",
              "    <tr>\n",
              "      <th>891</th>\n",
              "      <td>0.693147</td>\n",
              "      <td>19982</td>\n",
              "      <td>5</td>\n",
              "      <td>1.098612</td>\n",
              "      <td>7.606885</td>\n",
              "      <td>44</td>\n",
              "      <td>0.342755</td>\n",
              "      <td>2.397895</td>\n",
              "      <td>2.079442</td>\n",
              "      <td>2.397895</td>\n",
              "      <td>1.386294</td>\n",
              "      <td>1.791759</td>\n",
              "      <td>2.639057</td>\n",
              "      <td>1117</td>\n",
              "      <td>-2</td>\n",
              "      <td>2.079442</td>\n",
              "      <td>72</td>\n",
              "      <td>2.397895</td>\n",
              "      <td>1</td>\n",
              "      <td>1</td>\n",
              "      <td>4</td>\n",
              "      <td>1</td>\n",
              "      <td>4</td>\n",
              "      <td>3</td>\n",
              "      <td>4</td>\n",
              "      <td>1</td>\n",
              "      <td>3</td>\n",
              "      <td>0</td>\n",
              "      <td>0</td>\n",
              "      <td>0</td>\n",
              "      <td>0</td>\n",
              "      <td>0</td>\n",
              "      <td>0</td>\n",
              "      <td>1</td>\n",
              "      <td>0</td>\n",
              "      <td>0</td>\n",
              "      <td>0</td>\n",
              "      <td>1</td>\n",
              "      <td>0</td>\n",
              "      <td>0</td>\n",
              "      <td>0</td>\n",
              "      <td>0</td>\n",
              "      <td>1</td>\n",
              "      <td>0</td>\n",
              "      <td>1</td>\n",
              "      <td>0</td>\n",
              "      <td>0</td>\n",
              "      <td>1</td>\n",
              "      <td>0</td>\n",
              "      <td>0</td>\n",
              "      <td>1</td>\n",
              "      <td>0</td>\n",
              "      <td>0</td>\n",
              "      <td>0</td>\n",
              "      <td>1</td>\n",
              "    </tr>\n",
              "    <tr>\n",
              "      <th>456</th>\n",
              "      <td>2.302585</td>\n",
              "      <td>25291</td>\n",
              "      <td>3</td>\n",
              "      <td>2.079442</td>\n",
              "      <td>9.355133</td>\n",
              "      <td>31</td>\n",
              "      <td>1.208800</td>\n",
              "      <td>1.791759</td>\n",
              "      <td>0.000000</td>\n",
              "      <td>0.747214</td>\n",
              "      <td>2.397895</td>\n",
              "      <td>1.609438</td>\n",
              "      <td>3.091042</td>\n",
              "      <td>688</td>\n",
              "      <td>4</td>\n",
              "      <td>0.693147</td>\n",
              "      <td>44</td>\n",
              "      <td>2.397895</td>\n",
              "      <td>3</td>\n",
              "      <td>3</td>\n",
              "      <td>2</td>\n",
              "      <td>3</td>\n",
              "      <td>4</td>\n",
              "      <td>4</td>\n",
              "      <td>3</td>\n",
              "      <td>1</td>\n",
              "      <td>2</td>\n",
              "      <td>0</td>\n",
              "      <td>0</td>\n",
              "      <td>0</td>\n",
              "      <td>1</td>\n",
              "      <td>0</td>\n",
              "      <td>0</td>\n",
              "      <td>0</td>\n",
              "      <td>0</td>\n",
              "      <td>0</td>\n",
              "      <td>0</td>\n",
              "      <td>1</td>\n",
              "      <td>0</td>\n",
              "      <td>0</td>\n",
              "      <td>0</td>\n",
              "      <td>0</td>\n",
              "      <td>0</td>\n",
              "      <td>1</td>\n",
              "      <td>1</td>\n",
              "      <td>0</td>\n",
              "      <td>1</td>\n",
              "      <td>0</td>\n",
              "      <td>0</td>\n",
              "      <td>0</td>\n",
              "      <td>0</td>\n",
              "      <td>1</td>\n",
              "      <td>0</td>\n",
              "      <td>0</td>\n",
              "      <td>1</td>\n",
              "    </tr>\n",
              "    <tr>\n",
              "      <th>922</th>\n",
              "      <td>0.693147</td>\n",
              "      <td>17477</td>\n",
              "      <td>4</td>\n",
              "      <td>1.609438</td>\n",
              "      <td>9.862197</td>\n",
              "      <td>44</td>\n",
              "      <td>1.589480</td>\n",
              "      <td>3.258097</td>\n",
              "      <td>2.708050</td>\n",
              "      <td>3.295837</td>\n",
              "      <td>2.564949</td>\n",
              "      <td>2.302585</td>\n",
              "      <td>2.708050</td>\n",
              "      <td>1199</td>\n",
              "      <td>-5</td>\n",
              "      <td>2.639057</td>\n",
              "      <td>92</td>\n",
              "      <td>3.295837</td>\n",
              "      <td>2</td>\n",
              "      <td>3</td>\n",
              "      <td>4</td>\n",
              "      <td>5</td>\n",
              "      <td>1</td>\n",
              "      <td>3</td>\n",
              "      <td>4</td>\n",
              "      <td>2</td>\n",
              "      <td>2</td>\n",
              "      <td>0</td>\n",
              "      <td>0</td>\n",
              "      <td>0</td>\n",
              "      <td>1</td>\n",
              "      <td>0</td>\n",
              "      <td>0</td>\n",
              "      <td>0</td>\n",
              "      <td>0</td>\n",
              "      <td>0</td>\n",
              "      <td>0</td>\n",
              "      <td>1</td>\n",
              "      <td>0</td>\n",
              "      <td>0</td>\n",
              "      <td>0</td>\n",
              "      <td>0</td>\n",
              "      <td>0</td>\n",
              "      <td>1</td>\n",
              "      <td>1</td>\n",
              "      <td>0</td>\n",
              "      <td>1</td>\n",
              "      <td>0</td>\n",
              "      <td>0</td>\n",
              "      <td>0</td>\n",
              "      <td>1</td>\n",
              "      <td>0</td>\n",
              "      <td>0</td>\n",
              "      <td>0</td>\n",
              "      <td>1</td>\n",
              "    </tr>\n",
              "    <tr>\n",
              "      <th>69</th>\n",
              "      <td>0.000000</td>\n",
              "      <td>21777</td>\n",
              "      <td>0</td>\n",
              "      <td>2.302585</td>\n",
              "      <td>8.128290</td>\n",
              "      <td>36</td>\n",
              "      <td>0.523993</td>\n",
              "      <td>0.693147</td>\n",
              "      <td>0.000000</td>\n",
              "      <td>0.000000</td>\n",
              "      <td>1.098612</td>\n",
              "      <td>0.000000</td>\n",
              "      <td>2.890372</td>\n",
              "      <td>318</td>\n",
              "      <td>0</td>\n",
              "      <td>0.000000</td>\n",
              "      <td>79</td>\n",
              "      <td>1.098612</td>\n",
              "      <td>3</td>\n",
              "      <td>4</td>\n",
              "      <td>2</td>\n",
              "      <td>1</td>\n",
              "      <td>3</td>\n",
              "      <td>3</td>\n",
              "      <td>1</td>\n",
              "      <td>1</td>\n",
              "      <td>2</td>\n",
              "      <td>0</td>\n",
              "      <td>0</td>\n",
              "      <td>0</td>\n",
              "      <td>0</td>\n",
              "      <td>0</td>\n",
              "      <td>0</td>\n",
              "      <td>1</td>\n",
              "      <td>0</td>\n",
              "      <td>0</td>\n",
              "      <td>0</td>\n",
              "      <td>0</td>\n",
              "      <td>0</td>\n",
              "      <td>1</td>\n",
              "      <td>0</td>\n",
              "      <td>0</td>\n",
              "      <td>0</td>\n",
              "      <td>1</td>\n",
              "      <td>0</td>\n",
              "      <td>1</td>\n",
              "      <td>0</td>\n",
              "      <td>1</td>\n",
              "      <td>0</td>\n",
              "      <td>0</td>\n",
              "      <td>1</td>\n",
              "      <td>0</td>\n",
              "      <td>0</td>\n",
              "      <td>0</td>\n",
              "      <td>1</td>\n",
              "    </tr>\n",
              "  </tbody>\n",
              "</table>\n",
              "</div>"
            ],
            "text/plain": [
              "      NumCompaniesWorked  ...  BusinessTravel_Travel_Rarely\n",
              "1061            0.693147  ...                             0\n",
              "891             0.693147  ...                             1\n",
              "456             2.302585  ...                             1\n",
              "922             0.693147  ...                             1\n",
              "69              0.000000  ...                             1\n",
              "\n",
              "[5 rows x 55 columns]"
            ]
          },
          "metadata": {
            "tags": []
          },
          "execution_count": 400
        }
      ]
    },
    {
      "cell_type": "code",
      "metadata": {
        "colab": {
          "base_uri": "https://localhost:8080/",
          "height": 243
        },
        "id": "XKn0QUG_9zNM",
        "outputId": "bd89ebeb-1b42-4e3c-f750-f00a23cf6de3"
      },
      "source": [
        "from sklearn.preprocessing import StandardScaler\n",
        "scaler = StandardScaler()\n",
        "scl = scaler.fit(X_train)\n",
        "X_train = scl.transform(X_train)\n",
        "X_val = scl.transform(X_val)\n",
        "X_test = scl.transform(X_test)\n",
        "pd.DataFrame(X_test, columns = final_emp_df.columns).head()"
      ],
      "execution_count": 401,
      "outputs": [
        {
          "output_type": "execute_result",
          "data": {
            "text/html": [
              "<div>\n",
              "<style scoped>\n",
              "    .dataframe tbody tr th:only-of-type {\n",
              "        vertical-align: middle;\n",
              "    }\n",
              "\n",
              "    .dataframe tbody tr th {\n",
              "        vertical-align: top;\n",
              "    }\n",
              "\n",
              "    .dataframe thead th {\n",
              "        text-align: right;\n",
              "    }\n",
              "</style>\n",
              "<table border=\"1\" class=\"dataframe\">\n",
              "  <thead>\n",
              "    <tr style=\"text-align: right;\">\n",
              "      <th></th>\n",
              "      <th>NumCompaniesWorked</th>\n",
              "      <th>MonthlyRate</th>\n",
              "      <th>TrainingTimesLastYear</th>\n",
              "      <th>DistanceFromHome</th>\n",
              "      <th>MonthlyIncome</th>\n",
              "      <th>Age</th>\n",
              "      <th>CompRatioOverall</th>\n",
              "      <th>YearsAtCompany</th>\n",
              "      <th>YearsSinceLastPromotion</th>\n",
              "      <th>TenurePerJob</th>\n",
              "      <th>YearWithoutChange2</th>\n",
              "      <th>YearsInCurrentRole</th>\n",
              "      <th>PercentSalaryHike</th>\n",
              "      <th>DailyRate</th>\n",
              "      <th>YearWithoutChange1</th>\n",
              "      <th>YearsWithCurrManager</th>\n",
              "      <th>HourlyRate</th>\n",
              "      <th>TotalWorkingYears</th>\n",
              "      <th>Education</th>\n",
              "      <th>EnvironmentSatisfaction</th>\n",
              "      <th>JobInvolvement</th>\n",
              "      <th>JobLevel</th>\n",
              "      <th>JobSatisfaction</th>\n",
              "      <th>PerformanceRating</th>\n",
              "      <th>RelationshipSatisfaction</th>\n",
              "      <th>StockOptionLevel</th>\n",
              "      <th>WorkLifeBalance</th>\n",
              "      <th>JobRole_Healthcare Representative</th>\n",
              "      <th>JobRole_Human Resources</th>\n",
              "      <th>JobRole_Laboratory Technician</th>\n",
              "      <th>JobRole_Manager</th>\n",
              "      <th>JobRole_Manufacturing Director</th>\n",
              "      <th>JobRole_Research Director</th>\n",
              "      <th>JobRole_Research Scientist</th>\n",
              "      <th>JobRole_Sales Executive</th>\n",
              "      <th>JobRole_Sales Representative</th>\n",
              "      <th>EducationField_Human Resources</th>\n",
              "      <th>EducationField_Life Sciences</th>\n",
              "      <th>EducationField_Marketing</th>\n",
              "      <th>EducationField_Medical</th>\n",
              "      <th>EducationField_Other</th>\n",
              "      <th>EducationField_Technical Degree</th>\n",
              "      <th>Gender_Female</th>\n",
              "      <th>Gender_Male</th>\n",
              "      <th>OverTime_No</th>\n",
              "      <th>OverTime_Yes</th>\n",
              "      <th>MaritalStatus_Divorced</th>\n",
              "      <th>MaritalStatus_Married</th>\n",
              "      <th>MaritalStatus_Single</th>\n",
              "      <th>Department_Human Resources</th>\n",
              "      <th>Department_Research &amp; Development</th>\n",
              "      <th>Department_Sales</th>\n",
              "      <th>BusinessTravel_Non-Travel</th>\n",
              "      <th>BusinessTravel_Travel_Frequently</th>\n",
              "      <th>BusinessTravel_Travel_Rarely</th>\n",
              "    </tr>\n",
              "  </thead>\n",
              "  <tbody>\n",
              "    <tr>\n",
              "      <th>0</th>\n",
              "      <td>-0.581910</td>\n",
              "      <td>-0.998651</td>\n",
              "      <td>-0.609528</td>\n",
              "      <td>0.772347</td>\n",
              "      <td>-1.438992</td>\n",
              "      <td>-1.424318</td>\n",
              "      <td>-1.210753</td>\n",
              "      <td>-1.522787</td>\n",
              "      <td>-0.963632</td>\n",
              "      <td>-0.829223</td>\n",
              "      <td>-1.779224</td>\n",
              "      <td>-1.773900</td>\n",
              "      <td>-0.570424</td>\n",
              "      <td>0.074062</td>\n",
              "      <td>-0.626945</td>\n",
              "      <td>-1.727321</td>\n",
              "      <td>0.610197</td>\n",
              "      <td>-2.339142</td>\n",
              "      <td>-0.887094</td>\n",
              "      <td>1.176555</td>\n",
              "      <td>0.374419</td>\n",
              "      <td>-0.992590</td>\n",
              "      <td>-0.661975</td>\n",
              "      <td>-0.425210</td>\n",
              "      <td>0.237851</td>\n",
              "      <td>0.234346</td>\n",
              "      <td>0.347946</td>\n",
              "      <td>-0.321298</td>\n",
              "      <td>-0.190365</td>\n",
              "      <td>-0.467861</td>\n",
              "      <td>-0.264135</td>\n",
              "      <td>-0.323085</td>\n",
              "      <td>-0.229644</td>\n",
              "      <td>-0.487265</td>\n",
              "      <td>-0.562068</td>\n",
              "      <td>4.354568</td>\n",
              "      <td>-0.142305</td>\n",
              "      <td>1.206133</td>\n",
              "      <td>-0.366028</td>\n",
              "      <td>-0.659962</td>\n",
              "      <td>-0.229644</td>\n",
              "      <td>-0.33543</td>\n",
              "      <td>1.222818</td>\n",
              "      <td>-1.222818</td>\n",
              "      <td>0.629109</td>\n",
              "      <td>-0.629109</td>\n",
              "      <td>-0.532898</td>\n",
              "      <td>1.082813</td>\n",
              "      <td>-0.683671</td>\n",
              "      <td>-0.203319</td>\n",
              "      <td>-1.341246</td>\n",
              "      <td>1.465882</td>\n",
              "      <td>2.935674</td>\n",
              "      <td>-0.473853</td>\n",
              "      <td>-1.574885</td>\n",
              "    </tr>\n",
              "    <tr>\n",
              "      <th>1</th>\n",
              "      <td>-0.581910</td>\n",
              "      <td>0.781738</td>\n",
              "      <td>1.784829</td>\n",
              "      <td>-1.019383</td>\n",
              "      <td>-1.455761</td>\n",
              "      <td>0.770611</td>\n",
              "      <td>-1.219825</td>\n",
              "      <td>0.770673</td>\n",
              "      <td>1.590425</td>\n",
              "      <td>1.134643</td>\n",
              "      <td>-0.871928</td>\n",
              "      <td>0.515954</td>\n",
              "      <td>-0.570424</td>\n",
              "      <td>0.789594</td>\n",
              "      <td>-1.239418</td>\n",
              "      <td>0.884316</td>\n",
              "      <td>0.314823</td>\n",
              "      <td>0.144549</td>\n",
              "      <td>-1.864746</td>\n",
              "      <td>-1.579450</td>\n",
              "      <td>1.784152</td>\n",
              "      <td>-0.992590</td>\n",
              "      <td>1.143102</td>\n",
              "      <td>-0.425210</td>\n",
              "      <td>1.163019</td>\n",
              "      <td>0.234346</td>\n",
              "      <td>0.347946</td>\n",
              "      <td>-0.321298</td>\n",
              "      <td>-0.190365</td>\n",
              "      <td>-0.467861</td>\n",
              "      <td>-0.264135</td>\n",
              "      <td>-0.323085</td>\n",
              "      <td>-0.229644</td>\n",
              "      <td>2.052273</td>\n",
              "      <td>-0.562068</td>\n",
              "      <td>-0.229644</td>\n",
              "      <td>-0.142305</td>\n",
              "      <td>1.206133</td>\n",
              "      <td>-0.366028</td>\n",
              "      <td>-0.659962</td>\n",
              "      <td>-0.229644</td>\n",
              "      <td>-0.33543</td>\n",
              "      <td>1.222818</td>\n",
              "      <td>-1.222818</td>\n",
              "      <td>0.629109</td>\n",
              "      <td>-0.629109</td>\n",
              "      <td>-0.532898</td>\n",
              "      <td>1.082813</td>\n",
              "      <td>-0.683671</td>\n",
              "      <td>-0.203319</td>\n",
              "      <td>0.745575</td>\n",
              "      <td>-0.682183</td>\n",
              "      <td>-0.340637</td>\n",
              "      <td>-0.473853</td>\n",
              "      <td>0.634967</td>\n",
              "    </tr>\n",
              "    <tr>\n",
              "      <th>2</th>\n",
              "      <td>1.815701</td>\n",
              "      <td>1.515652</td>\n",
              "      <td>0.188591</td>\n",
              "      <td>0.121444</td>\n",
              "      <td>1.239992</td>\n",
              "      <td>-0.656093</td>\n",
              "      <td>1.258984</td>\n",
              "      <td>-0.044784</td>\n",
              "      <td>-0.963632</td>\n",
              "      <td>-0.766938</td>\n",
              "      <td>0.452209</td>\n",
              "      <td>0.282948</td>\n",
              "      <td>1.532062</td>\n",
              "      <td>-0.279965</td>\n",
              "      <td>0.598000</td>\n",
              "      <td>-0.856775</td>\n",
              "      <td>-1.063587</td>\n",
              "      <td>0.144549</td>\n",
              "      <td>0.090558</td>\n",
              "      <td>0.257887</td>\n",
              "      <td>-1.035315</td>\n",
              "      <td>0.889418</td>\n",
              "      <td>1.143102</td>\n",
              "      <td>2.351779</td>\n",
              "      <td>0.237851</td>\n",
              "      <td>0.234346</td>\n",
              "      <td>-1.046474</td>\n",
              "      <td>-0.321298</td>\n",
              "      <td>-0.190365</td>\n",
              "      <td>-0.467861</td>\n",
              "      <td>3.785939</td>\n",
              "      <td>-0.323085</td>\n",
              "      <td>-0.229644</td>\n",
              "      <td>-0.487265</td>\n",
              "      <td>-0.562068</td>\n",
              "      <td>-0.229644</td>\n",
              "      <td>-0.142305</td>\n",
              "      <td>1.206133</td>\n",
              "      <td>-0.366028</td>\n",
              "      <td>-0.659962</td>\n",
              "      <td>-0.229644</td>\n",
              "      <td>-0.33543</td>\n",
              "      <td>-0.817783</td>\n",
              "      <td>0.817783</td>\n",
              "      <td>0.629109</td>\n",
              "      <td>-0.629109</td>\n",
              "      <td>1.876531</td>\n",
              "      <td>-0.923520</td>\n",
              "      <td>-0.683671</td>\n",
              "      <td>-0.203319</td>\n",
              "      <td>-1.341246</td>\n",
              "      <td>1.465882</td>\n",
              "      <td>-0.340637</td>\n",
              "      <td>-0.473853</td>\n",
              "      <td>0.634967</td>\n",
              "    </tr>\n",
              "    <tr>\n",
              "      <th>3</th>\n",
              "      <td>-0.581910</td>\n",
              "      <td>0.435448</td>\n",
              "      <td>0.986710</td>\n",
              "      <td>-0.425229</td>\n",
              "      <td>2.021871</td>\n",
              "      <td>0.770611</td>\n",
              "      <td>2.348575</td>\n",
              "      <td>1.927934</td>\n",
              "      <td>2.362508</td>\n",
              "      <td>2.169069</td>\n",
              "      <td>0.670875</td>\n",
              "      <td>1.168784</td>\n",
              "      <td>-0.249492</td>\n",
              "      <td>0.994032</td>\n",
              "      <td>-2.158127</td>\n",
              "      <td>1.587155</td>\n",
              "      <td>1.299402</td>\n",
              "      <td>1.452783</td>\n",
              "      <td>-0.887094</td>\n",
              "      <td>0.257887</td>\n",
              "      <td>1.784152</td>\n",
              "      <td>2.771426</td>\n",
              "      <td>-1.564514</td>\n",
              "      <td>-0.425210</td>\n",
              "      <td>1.163019</td>\n",
              "      <td>1.403864</td>\n",
              "      <td>-1.046474</td>\n",
              "      <td>-0.321298</td>\n",
              "      <td>-0.190365</td>\n",
              "      <td>-0.467861</td>\n",
              "      <td>3.785939</td>\n",
              "      <td>-0.323085</td>\n",
              "      <td>-0.229644</td>\n",
              "      <td>-0.487265</td>\n",
              "      <td>-0.562068</td>\n",
              "      <td>-0.229644</td>\n",
              "      <td>-0.142305</td>\n",
              "      <td>1.206133</td>\n",
              "      <td>-0.366028</td>\n",
              "      <td>-0.659962</td>\n",
              "      <td>-0.229644</td>\n",
              "      <td>-0.33543</td>\n",
              "      <td>-0.817783</td>\n",
              "      <td>0.817783</td>\n",
              "      <td>0.629109</td>\n",
              "      <td>-0.629109</td>\n",
              "      <td>1.876531</td>\n",
              "      <td>-0.923520</td>\n",
              "      <td>-0.683671</td>\n",
              "      <td>-0.203319</td>\n",
              "      <td>0.745575</td>\n",
              "      <td>-0.682183</td>\n",
              "      <td>-0.340637</td>\n",
              "      <td>-0.473853</td>\n",
              "      <td>0.634967</td>\n",
              "    </tr>\n",
              "    <tr>\n",
              "      <th>4</th>\n",
              "      <td>-1.614505</td>\n",
              "      <td>1.029878</td>\n",
              "      <td>-2.205766</td>\n",
              "      <td>0.380987</td>\n",
              "      <td>-0.651767</td>\n",
              "      <td>-0.107361</td>\n",
              "      <td>-0.701080</td>\n",
              "      <td>-1.522787</td>\n",
              "      <td>-0.963632</td>\n",
              "      <td>-1.627727</td>\n",
              "      <td>-1.248489</td>\n",
              "      <td>-1.773900</td>\n",
              "      <td>0.598608</td>\n",
              "      <td>-1.202429</td>\n",
              "      <td>-0.626945</td>\n",
              "      <td>-1.727321</td>\n",
              "      <td>0.659426</td>\n",
              "      <td>-1.748409</td>\n",
              "      <td>0.090558</td>\n",
              "      <td>1.176555</td>\n",
              "      <td>-1.035315</td>\n",
              "      <td>-0.992590</td>\n",
              "      <td>0.240563</td>\n",
              "      <td>-0.425210</td>\n",
              "      <td>-1.612487</td>\n",
              "      <td>0.234346</td>\n",
              "      <td>-1.046474</td>\n",
              "      <td>-0.321298</td>\n",
              "      <td>-0.190365</td>\n",
              "      <td>-0.467861</td>\n",
              "      <td>-0.264135</td>\n",
              "      <td>-0.323085</td>\n",
              "      <td>-0.229644</td>\n",
              "      <td>2.052273</td>\n",
              "      <td>-0.562068</td>\n",
              "      <td>-0.229644</td>\n",
              "      <td>-0.142305</td>\n",
              "      <td>-0.829096</td>\n",
              "      <td>-0.366028</td>\n",
              "      <td>1.515239</td>\n",
              "      <td>-0.229644</td>\n",
              "      <td>-0.33543</td>\n",
              "      <td>-0.817783</td>\n",
              "      <td>0.817783</td>\n",
              "      <td>-1.589549</td>\n",
              "      <td>1.589549</td>\n",
              "      <td>-0.532898</td>\n",
              "      <td>1.082813</td>\n",
              "      <td>-0.683671</td>\n",
              "      <td>-0.203319</td>\n",
              "      <td>0.745575</td>\n",
              "      <td>-0.682183</td>\n",
              "      <td>-0.340637</td>\n",
              "      <td>-0.473853</td>\n",
              "      <td>0.634967</td>\n",
              "    </tr>\n",
              "  </tbody>\n",
              "</table>\n",
              "</div>"
            ],
            "text/plain": [
              "   NumCompaniesWorked  ...  BusinessTravel_Travel_Rarely\n",
              "0           -0.581910  ...                     -1.574885\n",
              "1           -0.581910  ...                      0.634967\n",
              "2            1.815701  ...                      0.634967\n",
              "3           -0.581910  ...                      0.634967\n",
              "4           -1.614505  ...                      0.634967\n",
              "\n",
              "[5 rows x 55 columns]"
            ]
          },
          "metadata": {
            "tags": []
          },
          "execution_count": 401
        }
      ]
    },
    {
      "cell_type": "code",
      "metadata": {
        "id": "ftU02bVWqpTl"
      },
      "source": [
        "from sklearn.linear_model import LogisticRegression\n",
        "from sklearn.ensemble import RandomForestClassifier, AdaBoostClassifier, GradientBoostingClassifier, ExtraTreesClassifier\n",
        "from sklearn.tree import DecisionTreeClassifier\n",
        "from sklearn.naive_bayes import GaussianNB\n",
        "from sklearn.svm import SVC\n",
        "\n",
        "from sklearn.model_selection import cross_val_score\n",
        "from sklearn.feature_selection import SelectFromModel\n",
        "\n",
        "from sklearn.metrics import accuracy_score, classification_report, confusion_matrix, roc_auc_score, f1_score"
      ],
      "execution_count": 402,
      "outputs": []
    },
    {
      "cell_type": "code",
      "metadata": {
        "id": "mEQjeIy9q1cN"
      },
      "source": [
        "def gen_model_performance(actual_target, pred_target):\n",
        "    model_conf_matrix = confusion_matrix(actual_target, pred_target)\n",
        "    model_roc_score = roc_auc_score(actual_target, pred_target)\n",
        "    model_accuracy = accuracy_score(actual_target, pred_target) * 100.0\n",
        "    \n",
        "    TP = model_conf_matrix[1][1]; TN = model_conf_matrix[0][0]; \n",
        "    FP = model_conf_matrix[0][1]; FN = model_conf_matrix[1][0];\n",
        "    sensitivity = TP / float(TP + FN) * 100.0; specificity = TN / float(TN + FP) * 100.0;\n",
        "    precision = TP / float(TP + FP) * 100.0;\n",
        "    \n",
        "    return sensitivity, specificity, model_accuracy, precision, model_roc_score"
      ],
      "execution_count": 403,
      "outputs": []
    },
    {
      "cell_type": "code",
      "metadata": {
        "id": "gtVdA97nq6vN"
      },
      "source": [
        "def evaluate_model_score(X_train, y_train, X_val, y_val, scoring='f1'):\n",
        "    \n",
        "    logreg_model = LogisticRegression(random_state=0, max_iter = 1000)\n",
        "    svc_model = SVC()\n",
        "    rfc_model = RandomForestClassifier(n_estimators=100)\n",
        "    extrees_model = ExtraTreesClassifier()\n",
        "    gboost_model = GradientBoostingClassifier()\n",
        "    dt_model = DecisionTreeClassifier()\n",
        "    aboost_model = AdaBoostClassifier()\n",
        "    gnb_model = GaussianNB()\n",
        "    \n",
        "\n",
        "    models = [logreg_model, svc_model, dt_model, rfc_model, \n",
        "              extrees_model, gboost_model, aboost_model, gnb_model]\n",
        "    \n",
        "    model_results = pd.DataFrame(columns = [\"Model\", \"Accuracy\", \"Precision\", \n",
        "                                            \"Sensitivity\",\"Specificity\",\"ROC Score\"])\n",
        "    \n",
        "    for model in models:\n",
        "        model.fit(X_train, y_train)\n",
        "        y_pred = model.predict(X_val)    \n",
        "        sensitivity, specificity, accuracy, precision, roc_score = gen_model_performance(y_val, y_pred)\n",
        "        model_results = model_results.append({\"Model\": model.__class__.__name__,\n",
        "                              \"Accuracy\": accuracy, \"Precision\": precision,\n",
        "                              \"Sensitivity\": sensitivity, \"Specificity\": specificity,\n",
        "                              \"ROC Score\": roc_score}, ignore_index=True)\n",
        "    return model_results\n"
      ],
      "execution_count": 404,
      "outputs": []
    },
    {
      "cell_type": "code",
      "metadata": {
        "colab": {
          "base_uri": "https://localhost:8080/",
          "height": 300
        },
        "id": "TZQG7cyyrI9k",
        "outputId": "78a9b6cf-dbfb-434b-d84c-db6da7b06600"
      },
      "source": [
        "model_results = evaluate_model_score(X_train, y_train, X_val, y_val)\n",
        "\n",
        "model_results"
      ],
      "execution_count": 405,
      "outputs": [
        {
          "output_type": "execute_result",
          "data": {
            "text/html": [
              "<div>\n",
              "<style scoped>\n",
              "    .dataframe tbody tr th:only-of-type {\n",
              "        vertical-align: middle;\n",
              "    }\n",
              "\n",
              "    .dataframe tbody tr th {\n",
              "        vertical-align: top;\n",
              "    }\n",
              "\n",
              "    .dataframe thead th {\n",
              "        text-align: right;\n",
              "    }\n",
              "</style>\n",
              "<table border=\"1\" class=\"dataframe\">\n",
              "  <thead>\n",
              "    <tr style=\"text-align: right;\">\n",
              "      <th></th>\n",
              "      <th>Model</th>\n",
              "      <th>Accuracy</th>\n",
              "      <th>Precision</th>\n",
              "      <th>Sensitivity</th>\n",
              "      <th>Specificity</th>\n",
              "      <th>ROC Score</th>\n",
              "    </tr>\n",
              "  </thead>\n",
              "  <tbody>\n",
              "    <tr>\n",
              "      <th>0</th>\n",
              "      <td>LogisticRegression</td>\n",
              "      <td>87.288136</td>\n",
              "      <td>83.333333</td>\n",
              "      <td>55.555556</td>\n",
              "      <td>96.703297</td>\n",
              "      <td>0.761294</td>\n",
              "    </tr>\n",
              "    <tr>\n",
              "      <th>1</th>\n",
              "      <td>SVC</td>\n",
              "      <td>82.203390</td>\n",
              "      <td>87.500000</td>\n",
              "      <td>25.925926</td>\n",
              "      <td>98.901099</td>\n",
              "      <td>0.624135</td>\n",
              "    </tr>\n",
              "    <tr>\n",
              "      <th>2</th>\n",
              "      <td>DecisionTreeClassifier</td>\n",
              "      <td>72.033898</td>\n",
              "      <td>37.500000</td>\n",
              "      <td>33.333333</td>\n",
              "      <td>83.516484</td>\n",
              "      <td>0.584249</td>\n",
              "    </tr>\n",
              "    <tr>\n",
              "      <th>3</th>\n",
              "      <td>RandomForestClassifier</td>\n",
              "      <td>79.661017</td>\n",
              "      <td>71.428571</td>\n",
              "      <td>18.518519</td>\n",
              "      <td>97.802198</td>\n",
              "      <td>0.581604</td>\n",
              "    </tr>\n",
              "    <tr>\n",
              "      <th>4</th>\n",
              "      <td>ExtraTreesClassifier</td>\n",
              "      <td>80.508475</td>\n",
              "      <td>75.000000</td>\n",
              "      <td>22.222222</td>\n",
              "      <td>97.802198</td>\n",
              "      <td>0.600122</td>\n",
              "    </tr>\n",
              "    <tr>\n",
              "      <th>5</th>\n",
              "      <td>GradientBoostingClassifier</td>\n",
              "      <td>79.661017</td>\n",
              "      <td>61.538462</td>\n",
              "      <td>29.629630</td>\n",
              "      <td>94.505495</td>\n",
              "      <td>0.620676</td>\n",
              "    </tr>\n",
              "    <tr>\n",
              "      <th>6</th>\n",
              "      <td>AdaBoostClassifier</td>\n",
              "      <td>81.355932</td>\n",
              "      <td>72.727273</td>\n",
              "      <td>29.629630</td>\n",
              "      <td>96.703297</td>\n",
              "      <td>0.631665</td>\n",
              "    </tr>\n",
              "    <tr>\n",
              "      <th>7</th>\n",
              "      <td>GaussianNB</td>\n",
              "      <td>77.118644</td>\n",
              "      <td>50.000000</td>\n",
              "      <td>74.074074</td>\n",
              "      <td>78.021978</td>\n",
              "      <td>0.760480</td>\n",
              "    </tr>\n",
              "  </tbody>\n",
              "</table>\n",
              "</div>"
            ],
            "text/plain": [
              "                        Model   Accuracy  ...  Specificity  ROC Score\n",
              "0          LogisticRegression  87.288136  ...    96.703297   0.761294\n",
              "1                         SVC  82.203390  ...    98.901099   0.624135\n",
              "2      DecisionTreeClassifier  72.033898  ...    83.516484   0.584249\n",
              "3      RandomForestClassifier  79.661017  ...    97.802198   0.581604\n",
              "4        ExtraTreesClassifier  80.508475  ...    97.802198   0.600122\n",
              "5  GradientBoostingClassifier  79.661017  ...    94.505495   0.620676\n",
              "6          AdaBoostClassifier  81.355932  ...    96.703297   0.631665\n",
              "7                  GaussianNB  77.118644  ...    78.021978   0.760480\n",
              "\n",
              "[8 rows x 6 columns]"
            ]
          },
          "metadata": {
            "tags": []
          },
          "execution_count": 405
        }
      ]
    },
    {
      "cell_type": "markdown",
      "metadata": {
        "id": "nBbVfEk1sHMb"
      },
      "source": [
        "### SMOTE to tackle class imabalance"
      ]
    },
    {
      "cell_type": "code",
      "metadata": {
        "colab": {
          "base_uri": "https://localhost:8080/"
        },
        "id": "PpYXvXDqsYzT",
        "outputId": "7eff07fa-2305-4c0e-e691-6bee28f8674a"
      },
      "source": [
        "from imblearn.over_sampling import SMOTE\n",
        "\n",
        "oversampler=SMOTE(random_state=0)\n",
        "X_train, y_train = oversampler.fit_sample(X_train, y_train)"
      ],
      "execution_count": 406,
      "outputs": [
        {
          "output_type": "stream",
          "text": [
            "/usr/local/lib/python3.7/dist-packages/sklearn/utils/deprecation.py:87: FutureWarning: Function safe_indexing is deprecated; safe_indexing is deprecated in version 0.22 and will be removed in version 0.24.\n",
            "  warnings.warn(msg, category=FutureWarning)\n"
          ],
          "name": "stderr"
        }
      ]
    },
    {
      "cell_type": "code",
      "metadata": {
        "colab": {
          "base_uri": "https://localhost:8080/",
          "height": 300
        },
        "id": "IGxBYoyWtJrH",
        "outputId": "4fc2bb74-f8f6-4094-8a38-f1613186b458"
      },
      "source": [
        "model_results = evaluate_model_score(X_train, y_train, X_val, y_val)\n",
        "\n",
        "model_results"
      ],
      "execution_count": 407,
      "outputs": [
        {
          "output_type": "execute_result",
          "data": {
            "text/html": [
              "<div>\n",
              "<style scoped>\n",
              "    .dataframe tbody tr th:only-of-type {\n",
              "        vertical-align: middle;\n",
              "    }\n",
              "\n",
              "    .dataframe tbody tr th {\n",
              "        vertical-align: top;\n",
              "    }\n",
              "\n",
              "    .dataframe thead th {\n",
              "        text-align: right;\n",
              "    }\n",
              "</style>\n",
              "<table border=\"1\" class=\"dataframe\">\n",
              "  <thead>\n",
              "    <tr style=\"text-align: right;\">\n",
              "      <th></th>\n",
              "      <th>Model</th>\n",
              "      <th>Accuracy</th>\n",
              "      <th>Precision</th>\n",
              "      <th>Sensitivity</th>\n",
              "      <th>Specificity</th>\n",
              "      <th>ROC Score</th>\n",
              "    </tr>\n",
              "  </thead>\n",
              "  <tbody>\n",
              "    <tr>\n",
              "      <th>0</th>\n",
              "      <td>LogisticRegression</td>\n",
              "      <td>77.966102</td>\n",
              "      <td>51.428571</td>\n",
              "      <td>66.666667</td>\n",
              "      <td>81.318681</td>\n",
              "      <td>0.739927</td>\n",
              "    </tr>\n",
              "    <tr>\n",
              "      <th>1</th>\n",
              "      <td>SVC</td>\n",
              "      <td>85.593220</td>\n",
              "      <td>75.000000</td>\n",
              "      <td>55.555556</td>\n",
              "      <td>94.505495</td>\n",
              "      <td>0.750305</td>\n",
              "    </tr>\n",
              "    <tr>\n",
              "      <th>2</th>\n",
              "      <td>DecisionTreeClassifier</td>\n",
              "      <td>78.813559</td>\n",
              "      <td>54.545455</td>\n",
              "      <td>44.444444</td>\n",
              "      <td>89.010989</td>\n",
              "      <td>0.667277</td>\n",
              "    </tr>\n",
              "    <tr>\n",
              "      <th>3</th>\n",
              "      <td>RandomForestClassifier</td>\n",
              "      <td>79.661017</td>\n",
              "      <td>63.636364</td>\n",
              "      <td>25.925926</td>\n",
              "      <td>95.604396</td>\n",
              "      <td>0.607652</td>\n",
              "    </tr>\n",
              "    <tr>\n",
              "      <th>4</th>\n",
              "      <td>ExtraTreesClassifier</td>\n",
              "      <td>81.355932</td>\n",
              "      <td>77.777778</td>\n",
              "      <td>25.925926</td>\n",
              "      <td>97.802198</td>\n",
              "      <td>0.618641</td>\n",
              "    </tr>\n",
              "    <tr>\n",
              "      <th>5</th>\n",
              "      <td>GradientBoostingClassifier</td>\n",
              "      <td>83.898305</td>\n",
              "      <td>75.000000</td>\n",
              "      <td>44.444444</td>\n",
              "      <td>95.604396</td>\n",
              "      <td>0.700244</td>\n",
              "    </tr>\n",
              "    <tr>\n",
              "      <th>6</th>\n",
              "      <td>AdaBoostClassifier</td>\n",
              "      <td>84.745763</td>\n",
              "      <td>73.684211</td>\n",
              "      <td>51.851852</td>\n",
              "      <td>94.505495</td>\n",
              "      <td>0.731787</td>\n",
              "    </tr>\n",
              "    <tr>\n",
              "      <th>7</th>\n",
              "      <td>GaussianNB</td>\n",
              "      <td>72.033898</td>\n",
              "      <td>43.478261</td>\n",
              "      <td>74.074074</td>\n",
              "      <td>71.428571</td>\n",
              "      <td>0.727513</td>\n",
              "    </tr>\n",
              "  </tbody>\n",
              "</table>\n",
              "</div>"
            ],
            "text/plain": [
              "                        Model   Accuracy  ...  Specificity  ROC Score\n",
              "0          LogisticRegression  77.966102  ...    81.318681   0.739927\n",
              "1                         SVC  85.593220  ...    94.505495   0.750305\n",
              "2      DecisionTreeClassifier  78.813559  ...    89.010989   0.667277\n",
              "3      RandomForestClassifier  79.661017  ...    95.604396   0.607652\n",
              "4        ExtraTreesClassifier  81.355932  ...    97.802198   0.618641\n",
              "5  GradientBoostingClassifier  83.898305  ...    95.604396   0.700244\n",
              "6          AdaBoostClassifier  84.745763  ...    94.505495   0.731787\n",
              "7                  GaussianNB  72.033898  ...    71.428571   0.727513\n",
              "\n",
              "[8 rows x 6 columns]"
            ]
          },
          "metadata": {
            "tags": []
          },
          "execution_count": 407
        }
      ]
    },
    {
      "cell_type": "markdown",
      "metadata": {
        "id": "Jafwu5ZTn8ow"
      },
      "source": [
        "##Principal Component Analysis"
      ]
    },
    {
      "cell_type": "code",
      "metadata": {
        "colab": {
          "base_uri": "https://localhost:8080/"
        },
        "id": "CBOo6fZKn8IL",
        "outputId": "86185969-d67a-4ef4-e710-bddb46785ccc"
      },
      "source": [
        "from sklearn.decomposition import PCA\n",
        "pca= PCA(n_components=5)\n",
        "X_train_pca =pca.fit_transform(X_train)\n",
        "X_val_pca = pca.transform(X_val)\n",
        "X_test_pca = pca.transform(X_test)\n",
        "\n",
        "# Explained variance ratio\n",
        "explained_variance = np.var(compo, axis=0)\n",
        "evr= explained_variance/np.sum(explained_variance) *100\n",
        "cevr=np.cumsum(evr)\n",
        "cevr"
      ],
      "execution_count": 408,
      "outputs": [
        {
          "output_type": "execute_result",
          "data": {
            "text/plain": [
              "array([ 65.16549149, 100.        ])"
            ]
          },
          "metadata": {
            "tags": []
          },
          "execution_count": 408
        }
      ]
    },
    {
      "cell_type": "markdown",
      "metadata": {
        "id": "rr17yzAQD-0-"
      },
      "source": [
        "### Hyperparameter tuning for Random forest using grid search."
      ]
    },
    {
      "cell_type": "code",
      "metadata": {
        "colab": {
          "base_uri": "https://localhost:8080/"
        },
        "id": "SBSV_Oxu1EXx",
        "outputId": "d0f109c8-1645-494f-fc8d-b1b7ef0d4489"
      },
      "source": [
        "from sklearn.model_selection import StratifiedKFold\n",
        "from sklearn.model_selection import GridSearchCV\n",
        "\n",
        "# Hyperparameters Tuning for Random Forest\n",
        "rfc_param_grid = {\n",
        "                 'max_depth' : [10, 15, 20, 25],\n",
        "                 'n_estimators': [50, 100, 150, 200],\n",
        "                 'max_features': ['sqrt', 'auto', 'log2'],\n",
        "                 }\n",
        "rfc_best_model = RandomForestClassifier(n_jobs = -1)\n",
        "rfc_cross_val = StratifiedKFold(n_splits=5)\n",
        "\n",
        "rfc_grid_search = GridSearchCV(rfc_best_model,\n",
        "                               scoring='accuracy',\n",
        "                               param_grid=rfc_param_grid,\n",
        "                               cv=rfc_cross_val,\n",
        "                               verbose=1)\n",
        "\n",
        "rfc_grid_search.fit(X_train_smote, y_train_smote)\n",
        "rfc_model = rfc_grid_search\n",
        "rfc_parameters = rfc_grid_search.best_params_\n",
        "\n"
      ],
      "execution_count": 409,
      "outputs": [
        {
          "output_type": "stream",
          "text": [
            "Fitting 5 folds for each of 48 candidates, totalling 240 fits\n"
          ],
          "name": "stdout"
        },
        {
          "output_type": "stream",
          "text": [
            "[Parallel(n_jobs=1)]: Using backend SequentialBackend with 1 concurrent workers.\n",
            "[Parallel(n_jobs=1)]: Done 240 out of 240 | elapsed:  2.4min finished\n"
          ],
          "name": "stderr"
        }
      ]
    },
    {
      "cell_type": "code",
      "metadata": {
        "id": "_Kp9EhOX74kG"
      },
      "source": [
        "rfc_parameters\n",
        "rfc_best_model = RandomForestClassifier(**rfc_parameters)\n",
        "rfc_best_model = rfc_best_model.fit(X_train, y_train)"
      ],
      "execution_count": 410,
      "outputs": []
    },
    {
      "cell_type": "markdown",
      "metadata": {
        "id": "E9i2pxPxJUWb"
      },
      "source": [
        "Scores on validation set"
      ]
    },
    {
      "cell_type": "code",
      "metadata": {
        "colab": {
          "base_uri": "https://localhost:8080/"
        },
        "id": "9GhJQPZUI2Cn",
        "outputId": "75357828-34ff-471c-dd20-de1b19e0cfa1"
      },
      "source": [
        "y_pred = rfc_best_model.predict(X_val)\n",
        "\n",
        "sensitivity, specificity, model_accuracy, precision, model_roc_score = gen_model_performance(y_val, y_pred)\n",
        "print(\"sensitivity\", sensitivity)\n",
        "print(\"specificity\", specificity)\n",
        "print(\"accuracy\", model_accuracy)\n",
        "print(\"precision\", precision)\n",
        "print(\"roc\", model_roc_score)"
      ],
      "execution_count": 411,
      "outputs": [
        {
          "output_type": "stream",
          "text": [
            "sensitivity 25.925925925925924\n",
            "specificity 95.6043956043956\n",
            "accuracy 79.66101694915254\n",
            "precision 63.63636363636363\n",
            "roc 0.6076516076516078\n"
          ],
          "name": "stdout"
        }
      ]
    },
    {
      "cell_type": "markdown",
      "metadata": {
        "id": "9EDwSsLxFBud"
      },
      "source": [
        "### Test scores of final selected model"
      ]
    },
    {
      "cell_type": "code",
      "metadata": {
        "colab": {
          "base_uri": "https://localhost:8080/"
        },
        "id": "XJ_8Rz7e5rWE",
        "outputId": "00f119d7-4b7e-476a-9816-0c74a25a145f"
      },
      "source": [
        "y_pred = rfc_best_model.predict(X_test)\n",
        "\n",
        "sensitivity, specificity, model_accuracy, precision, model_roc_score = gen_model_performance(y_test, y_pred)\n",
        "print(\"sensitivity\", sensitivity)\n",
        "print(\"specificity\", specificity)\n",
        "print(\"accuracy\", model_accuracy)\n",
        "print(\"precision\", precision)\n",
        "print(\"roc\", model_roc_score)"
      ],
      "execution_count": 412,
      "outputs": [
        {
          "output_type": "stream",
          "text": [
            "sensitivity 27.659574468085108\n",
            "specificity 96.35627530364373\n",
            "accuracy 85.37414965986395\n",
            "precision 59.09090909090909\n",
            "roc 0.6200792488586442\n"
          ],
          "name": "stdout"
        }
      ]
    },
    {
      "cell_type": "code",
      "metadata": {
        "colab": {
          "base_uri": "https://localhost:8080/"
        },
        "id": "lrxryyHj6hS5",
        "outputId": "925d120a-9e18-413c-cdd6-8ffe6be6f942"
      },
      "source": [
        "print(\"Classification Report: \\n {}\\n\".format(\n",
        "            classification_report(y_test, y_pred)))\n",
        "print(\"Confusion Matrix: \\n {}\\n\".format(\n",
        "            confusion_matrix(y_test, y_pred)))"
      ],
      "execution_count": 413,
      "outputs": [
        {
          "output_type": "stream",
          "text": [
            "Classification Report: \n",
            "               precision    recall  f1-score   support\n",
            "\n",
            "           0       0.88      0.96      0.92       247\n",
            "           1       0.59      0.28      0.38        47\n",
            "\n",
            "    accuracy                           0.85       294\n",
            "   macro avg       0.73      0.62      0.65       294\n",
            "weighted avg       0.83      0.85      0.83       294\n",
            "\n",
            "\n",
            "Confusion Matrix: \n",
            " [[238   9]\n",
            " [ 34  13]]\n",
            "\n"
          ],
          "name": "stdout"
        }
      ]
    },
    {
      "cell_type": "markdown",
      "metadata": {
        "id": "qGRNUEeCF2rU"
      },
      "source": [
        "Observations:\n",
        "1. Our model has sensitivity of around 28 percent i.e. out of all the employees going to resign we are able to predict 28% of them, this is significant improvement over no prediction at all.\n",
        "2. Our model is still biased towards predicting non attrition, maybe better feature engineering and feature selection and better way to handle class imbalance or using some other prediction model might give some improvement."
      ]
    },
    {
      "cell_type": "markdown",
      "metadata": {
        "id": "Slqc_AwLE2eZ"
      },
      "source": [
        "### Plotting feature importance for the final model"
      ]
    },
    {
      "cell_type": "code",
      "metadata": {
        "colab": {
          "base_uri": "https://localhost:8080/",
          "height": 643
        },
        "id": "SHzdwybm5ZFu",
        "outputId": "d4fb6c65-5e73-4ad8-ede5-55fe83367396"
      },
      "source": [
        "score = np.round(rfc_best_model.feature_importances_, 3)\n",
        "\n",
        "X_train = pd.DataFrame(X_train, columns = final_emp_df.columns)\n",
        "X_val = pd.DataFrame(X_val, columns = final_emp_df.columns)\n",
        "refclasscol = X_train.columns\n",
        "\n",
        "importances = pd.DataFrame({'feature':refclasscol, 'importance':score})\n",
        "importances = importances.sort_values('importance', ascending=False).set_index('feature')\n",
        "\n",
        "importances.plot.bar(figsize = (15,7))"
      ],
      "execution_count": 414,
      "outputs": [
        {
          "output_type": "execute_result",
          "data": {
            "text/plain": [
              "<matplotlib.axes._subplots.AxesSubplot at 0x7f0f128accd0>"
            ]
          },
          "metadata": {
            "tags": []
          },
          "execution_count": 414
        },
        {
          "output_type": "display_data",
          "data": {
            "image/png": "[encoded data removed]",
            "text/plain": [
              "<Figure size 1080x504 with 1 Axes>"
            ]
          },
          "metadata": {
            "tags": [],
            "needs_background": "light"
          }
        }
      ]
    },
    {
      "cell_type": "markdown",
      "metadata": {
        "id": "eSwELMBeFvgY"
      },
      "source": [
        "**Observations**\n",
        "1. From the feature importance we can see that our engineered features i.e. \"TenurePerJob\", \"CompRatioOverall\" and \"YearsWithoutChange\" have higher importance values compared to many of the other given features. Thus it can be concluded that feature engineering was successful.\n",
        "\n"
      ]
    }
  ]
}